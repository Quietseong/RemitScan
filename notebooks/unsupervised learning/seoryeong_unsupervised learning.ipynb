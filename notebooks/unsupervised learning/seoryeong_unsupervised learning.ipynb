{
 "cells": [
  {
   "cell_type": "code",
   "execution_count": 0,
   "metadata": {
    "application/vnd.databricks.v1+cell": {
     "cellMetadata": {
      "byteLimit": 2048000,
      "rowLimit": 10000
     },
     "inputWidgets": {},
     "nuid": "94cdb9a1-3167-4107-9b20-bd721728ebd6",
     "showTitle": false,
     "tableResultSettingsMap": {},
     "title": ""
    }
   },
   "outputs": [
    {
     "output_type": "stream",
     "name": "stdout",
     "output_type": "stream",
     "text": [
      "[FileInfo(path='dbfs:/mnt/my-mount/FDS_Dataset.JPG', name='FDS_Dataset.JPG', size=231190, modificationTime=1744691025000), FileInfo(path='dbfs:/mnt/my-mount/fds_pdf_encoded_data.csv', name='fds_pdf_encoded_data.csv', size=118232673, modificationTime=1746174281000), FileInfo(path='dbfs:/mnt/my-mount/fds_pdf_encoded_data2.csv', name='fds_pdf_encoded_data2.csv', size=118232676, modificationTime=1746174485000), FileInfo(path='dbfs:/mnt/my-mount/fraud_detection_dataset_with_full_columns.csv', name='fraud_detection_dataset_with_full_columns.csv', size=39891173, modificationTime=1745382516000), FileInfo(path='dbfs:/mnt/my-mount/synthetic_transaction_data.csv', name='synthetic_transaction_data.csv', size=116321723, modificationTime=1746086547000)]\n"
     ]
    }
   ],
   "source": [
    "files = dbutils.fs.ls(\"/mnt/my-mount\")\n",
    "print(files)"
   ]
  },
  {
   "cell_type": "code",
   "execution_count": 0,
   "metadata": {
    "application/vnd.databricks.v1+cell": {
     "cellMetadata": {
      "byteLimit": 2048000,
      "rowLimit": 10000
     },
     "inputWidgets": {},
     "nuid": "582933e3-b067-42ca-91e0-b3558e56d31a",
     "showTitle": false,
     "tableResultSettingsMap": {},
     "title": ""
    }
   },
   "outputs": [
    {
     "output_type": "stream",
     "name": "stdout",
     "output_type": "stream",
     "text": [
      "      transaction_time  TransactionDT  ... app_version  rooting\n0  2025-01-14 09:56:23          86400  ...       3.1.0    False\n1  2025-04-20 22:42:41          86401  ...       3.4.3    False\n2  2025-04-09 19:27:13          86469  ...       1.2.1     True\n3  2025-01-30 01:26:54          86499  ...       3.8.1     True\n4  2025-01-24 22:58:30          86506  ...       3.6.0     True\n\n[5 rows x 23 columns]\n"
     ]
    }
   ],
   "source": [
    "import pandas as pd\n",
    "\n",
    "fds_pdf = pd.read_csv(\"/dbfs/mnt/my-mount/synthetic_transaction_data.csv\")\n",
    "print(fds_pdf.head()) "
   ]
  },
  {
   "cell_type": "code",
   "execution_count": 0,
   "metadata": {
    "application/vnd.databricks.v1+cell": {
     "cellMetadata": {
      "byteLimit": 2048000,
      "rowLimit": 10000
     },
     "inputWidgets": {},
     "nuid": "c0164af1-7c2d-4b79-9e2b-ccafb3586f6f",
     "showTitle": false,
     "tableResultSettingsMap": {},
     "title": ""
    }
   },
   "outputs": [
    {
     "output_type": "stream",
     "name": "stdout",
     "output_type": "stream",
     "text": [
      "      transaction_time  TransactionDT recipient  TransactionAmt  hour  \\\n0  2025-01-14 09:56:23          86400        춘자         68500.0     9   \n1  2025-04-20 22:42:41          86401        수빈         29000.0    22   \n2  2025-04-09 19:27:13          86469        서준         59000.0    19   \n3  2025-01-30 01:26:54          86499        병철         50000.0     1   \n4  2025-01-24 22:58:30          86506        민수         50000.0    22   \n\n   voice_match                     DeviceInfo region receiver_bank  \\\n0         True                            NaN     대구          토스뱅크   \n1        False                            NaN     대구         카카오뱅크   \n2         True                            NaN     부산          신한은행   \n3         True                            NaN     부산         카카오뱅크   \n4         True  SAMSUNG SM-G892A Build/NRD90M     서울          우리은행   \n\n   receiver_account  is_new_account_for_user  avg_amount_to_bank  \\\n0     1000000266274                    False              481616   \n1     1000000573349                     True               79943   \n2     1000000451208                    False              218283   \n3     1000000473588                    False              457390   \n4     1000000040287                    False              289443   \n\n   amount_ratio_to_bank_avg  is_nighttime  recent_transaction_gap  \\\n0                  0.142229             0               14.932585   \n1                  0.362758             0               21.894439   \n2                  0.270291             0               17.249459   \n3                  0.109316             1               12.112011   \n4                  0.172746             0               75.834574   \n\n   is_new_device      ip_address    vpn payment_method intent authentication  \\\n0          False    58.232.2.170  False            P04    T05            A06   \n1          False      25.0.3.185  False            P05    T02            A02   \n2          False  168.188.65.132   True            P01    T05            A06   \n3           True  158.221.28.126   True            P05    T05            A02   \n4           True  171.223.101.73   True            P04    T02            A02   \n\n  app_version  rooting  \n0       3.1.0    False  \n1       3.4.3    False  \n2       1.2.1     True  \n3       3.8.1     True  \n4       3.6.0     True  \n"
     ]
    }
   ],
   "source": [
    "import numpy as np\n",
    "\n",
    "fds_pdf['DeviceInfo'] = fds_pdf['DeviceInfo'].replace('Unknown',np.nan)\n",
    "pd.set_option('display.max_rows', None)\n",
    "pd.set_option('display.max_columns', None)\n",
    "\n",
    "print(fds_pdf.head())"
   ]
  },
  {
   "cell_type": "markdown",
   "metadata": {
    "application/vnd.databricks.v1+cell": {
     "cellMetadata": {},
     "inputWidgets": {},
     "nuid": "c4d1e9a6-8603-42da-9378-1a971299680d",
     "showTitle": false,
     "tableResultSettingsMap": {},
     "title": ""
    }
   },
   "source": [
    "Data Scaling"
   ]
  },
  {
   "cell_type": "code",
   "execution_count": 0,
   "metadata": {
    "application/vnd.databricks.v1+cell": {
     "cellMetadata": {
      "byteLimit": 2048000,
      "rowLimit": 10000
     },
     "inputWidgets": {},
     "nuid": "f7ea40bc-f173-4b22-ab67-8f5711ff105f",
     "showTitle": false,
     "tableResultSettingsMap": {},
     "title": ""
    }
   },
   "outputs": [
    {
     "output_type": "stream",
     "name": "stdout",
     "output_type": "stream",
     "text": [
      "      transaction_time  TransactionDT recipient  TransactionAmt  hour  \\\n0  2025-01-14 09:56:23          86400        춘자         68500.0     9   \n1  2025-04-20 22:42:41          86401        수빈         29000.0    22   \n2  2025-04-09 19:27:13          86469        서준         59000.0    19   \n3  2025-01-30 01:26:54          86499        병철         50000.0     1   \n4  2025-01-24 22:58:30          86506        민수         50000.0    22   \n\n   voice_match                     DeviceInfo region receiver_bank  \\\n0            1                            NaN     대구          토스뱅크   \n1            0                            NaN     대구         카카오뱅크   \n2            1                            NaN     부산          신한은행   \n3            1                            NaN     부산         카카오뱅크   \n4            1  SAMSUNG SM-G892A Build/NRD90M     서울          우리은행   \n\n   receiver_account  is_new_account_for_user  avg_amount_to_bank  \\\n0     1000000266274                        0              481616   \n1     1000000573349                        1               79943   \n2     1000000451208                        0              218283   \n3     1000000473588                        0              457390   \n4     1000000040287                        0              289443   \n\n   amount_ratio_to_bank_avg  is_nighttime  recent_transaction_gap  \\\n0                  0.142229             0               14.932585   \n1                  0.362758             0               21.894439   \n2                  0.270291             0               17.249459   \n3                  0.109316             1               12.112011   \n4                  0.172746             0               75.834574   \n\n   is_new_device      ip_address  vpn app_version  rooting  \\\n0              0    58.232.2.170    0       3.1.0        0   \n1              0      25.0.3.185    0       3.4.3        0   \n2              0  168.188.65.132    1       1.2.1        1   \n3              1  158.221.28.126    1       3.8.1        1   \n4              1  171.223.101.73    1       3.6.0        1   \n\n   payment_method_P01  payment_method_P02  payment_method_P03  \\\n0                   0                   0                   0   \n1                   0                   0                   0   \n2                   1                   0                   0   \n3                   0                   0                   0   \n4                   0                   0                   0   \n\n   payment_method_P04  payment_method_P05  payment_method_P06  intent_T01  \\\n0                   1                   0                   0           0   \n1                   0                   1                   0           0   \n2                   0                   0                   0           0   \n3                   0                   1                   0           0   \n4                   1                   0                   0           0   \n\n   intent_T02  intent_T03  intent_T04  intent_T05  authentication_A01  \\\n0           0           0           0           1                   0   \n1           1           0           0           0                   0   \n2           0           0           0           1                   0   \n3           0           0           0           1                   0   \n4           1           0           0           0                   0   \n\n   authentication_A02  authentication_A03  authentication_A04  \\\n0                   0                   0                   0   \n1                   1                   0                   0   \n2                   0                   0                   0   \n3                   1                   0                   0   \n4                   1                   0                   0   \n\n   authentication_A05  authentication_A06  \n0                   0                   1  \n1                   0                   0  \n2                   0                   1  \n3                   0                   0  \n4                   0                   0  \n['TransactionAmt', 'hour', 'voice_match', 'is_new_account_for_user', 'avg_amount_to_bank', 'amount_ratio_to_bank_avg', 'is_nighttime', 'recent_transaction_gap', 'is_new_device', 'vpn', 'rooting', 'payment_method_P01', 'payment_method_P02', 'payment_method_P03', 'payment_method_P04', 'payment_method_P05', 'payment_method_P06', 'intent_T01', 'intent_T02', 'intent_T03', 'intent_T04', 'intent_T05', 'authentication_A01', 'authentication_A02', 'authentication_A03', 'authentication_A04', 'authentication_A05', 'authentication_A06']\n****************************************************************************************************\n[[-0.27816747 -0.35987014  0.99989163 ... -0.44715543 -0.4487467\n   2.23626338]\n [-0.44332726  1.51973769 -1.00010838 ... -0.44715543 -0.4487467\n  -0.44717452]\n [-0.31788944  1.08598204  0.99989163 ... -0.44715543 -0.4487467\n   2.23626338]\n ...\n [-0.4351738   1.51973769 -1.00010838 ... -0.44715543 -0.4487467\n  -0.44717452]\n [-0.07537632  1.23056725  0.99989163 ... -0.44715543 -0.4487467\n  -0.44717452]\n [ 0.6059601  -0.7936258  -1.00010838 ... -0.44715543  2.22842863\n  -0.44717452]]\n"
     ]
    }
   ],
   "source": [
    "import pandas as pd\n",
    "from sklearn.preprocessing import StandardScaler\n",
    "\n",
    "# Boolean columns → int 변환\n",
    "bool_cols=[\n",
    "    'voice_match',\n",
    "    'is_new_account_for_user',\n",
    "    'is_new_device',\n",
    "    'vpn',\n",
    "    'rooting'\n",
    "]\n",
    "\n",
    "fds_pdf[bool_cols] = fds_pdf[bool_cols].astype(int)\n",
    "\n",
    "categorical_cols = ['payment_method', 'intent', 'authentication']\n",
    "fds_pdf_encoded= pd.get_dummies(fds_pdf, columns=categorical_cols, drop_first=False)\n",
    "\n",
    "pd.set_option('display.max_rows', None)\n",
    "pd.set_option('display.max_columns', None)\n",
    "\n",
    "print(fds_pdf_encoded.head())\n",
    "exclude_cols =[\n",
    "    'transaction_time', 'TransactionDT', 'recipient', 'region', 'DeviceInfo',             \n",
    "    'receiver_bank', 'receiver_account', 'ip_address', 'app_version'\n",
    "]\n",
    "\n",
    "features = [col for col in fds_pdf_encoded.columns if col not in exclude_cols]\n",
    "print(features)\n",
    "print('*'*100)\n",
    "\n",
    "# 정규화 (스케일링)\n",
    "scaler = StandardScaler()\n",
    "X = scaler.fit_transform(fds_pdf_encoded[features])\n",
    "\n",
    "print(X)\n"
   ]
  },
  {
   "cell_type": "markdown",
   "metadata": {
    "application/vnd.databricks.v1+cell": {
     "cellMetadata": {},
     "inputWidgets": {},
     "nuid": "f3844f5f-0f49-4a3c-9fe0-c50df0fe6724",
     "showTitle": false,
     "tableResultSettingsMap": {},
     "title": ""
    }
   },
   "source": [
    "Unsupervised Learning 적용① - Isolation Forest"
   ]
  },
  {
   "cell_type": "code",
   "execution_count": 0,
   "metadata": {
    "application/vnd.databricks.v1+cell": {
     "cellMetadata": {
      "byteLimit": 2048000,
      "rowLimit": 10000
     },
     "inputWidgets": {},
     "nuid": "979f7344-299f-4cbf-bc98-99b7bae2c5d2",
     "showTitle": false,
     "tableResultSettingsMap": {},
     "title": ""
    }
   },
   "outputs": [
    {
     "output_type": "stream",
     "name": "stdout",
     "output_type": "stream",
     "text": [
      "IsolationForest(contamination=0.05, random_state=42)\n[ 1  1  1 ...  1  1 -1]\n****************************************************************************************************\n전체 이상 거래 개수\n****************************************************************************************************\n0    561013\n1     29527\nName: anomaly_iforest, dtype: int64\n"
     ]
    }
   ],
   "source": [
    "from sklearn.ensemble import IsolationForest\n",
    "import numpy as np\n",
    "\n",
    "iso_forest = IsolationForest(n_estimators=100, contamination=0.05, random_state=42)\n",
    "print(iso_forest)\n",
    "iso_forest.fit(X)\n",
    "\n",
    "# 이상치 예측 (-1: 이상치, 1: 정상치)\n",
    "preds = iso_forest.predict(X)\n",
    "print(preds)\n",
    "\n",
    "# 이상치 여부를 0/1로 변환 (1: 이상거래)\n",
    "fds_pdf_encoded['anomaly_iforest'] = np.where(preds==-1, 1, 0)\n",
    "\n",
    "#결과 확인\n",
    "print('*'*100)\n",
    "print('전체 이상 거래 개수')\n",
    "print('*'*100)\n",
    "print(fds_pdf_encoded['anomaly_iforest'].value_counts())"
   ]
  },
  {
   "cell_type": "code",
   "execution_count": 0,
   "metadata": {
    "application/vnd.databricks.v1+cell": {
     "cellMetadata": {
      "byteLimit": 2048000,
      "rowLimit": 10000
     },
     "inputWidgets": {},
     "nuid": "a4cb6393-6330-4f47-af03-c7be0e42ff84",
     "showTitle": false,
     "tableResultSettingsMap": {},
     "title": ""
    }
   },
   "outputs": [
    {
     "output_type": "stream",
     "name": "stdout",
     "output_type": "stream",
     "text": [
      "      transaction_time  TransactionDT recipient  TransactionAmt  hour  \\\n0  2025-01-14 09:56:23          86400        춘자         68500.0     9   \n1  2025-04-20 22:42:41          86401        수빈         29000.0    22   \n2  2025-04-09 19:27:13          86469        서준         59000.0    19   \n3  2025-01-30 01:26:54          86499        병철         50000.0     1   \n4  2025-01-24 22:58:30          86506        민수         50000.0    22   \n\n   voice_match                     DeviceInfo region receiver_bank  \\\n0            1                            NaN     대구          토스뱅크   \n1            0                            NaN     대구         카카오뱅크   \n2            1                            NaN     부산          신한은행   \n3            1                            NaN     부산         카카오뱅크   \n4            1  SAMSUNG SM-G892A Build/NRD90M     서울          우리은행   \n\n   receiver_account  is_new_account_for_user  avg_amount_to_bank  \\\n0     1000000266274                        0              481616   \n1     1000000573349                        1               79943   \n2     1000000451208                        0              218283   \n3     1000000473588                        0              457390   \n4     1000000040287                        0              289443   \n\n   amount_ratio_to_bank_avg  is_nighttime  recent_transaction_gap  \\\n0                  0.142229             0               14.932585   \n1                  0.362758             0               21.894439   \n2                  0.270291             0               17.249459   \n3                  0.109316             1               12.112011   \n4                  0.172746             0               75.834574   \n\n   is_new_device      ip_address  vpn app_version  rooting  \\\n0              0    58.232.2.170    0       3.1.0        0   \n1              0      25.0.3.185    0       3.4.3        0   \n2              0  168.188.65.132    1       1.2.1        1   \n3              1  158.221.28.126    1       3.8.1        1   \n4              1  171.223.101.73    1       3.6.0        1   \n\n   payment_method_P01  payment_method_P02  payment_method_P03  \\\n0                   0                   0                   0   \n1                   0                   0                   0   \n2                   1                   0                   0   \n3                   0                   0                   0   \n4                   0                   0                   0   \n\n   payment_method_P04  payment_method_P05  payment_method_P06  intent_T01  \\\n0                   1                   0                   0           0   \n1                   0                   1                   0           0   \n2                   0                   0                   0           0   \n3                   0                   1                   0           0   \n4                   1                   0                   0           0   \n\n   intent_T02  intent_T03  intent_T04  intent_T05  authentication_A01  \\\n0           0           0           0           1                   0   \n1           1           0           0           0                   0   \n2           0           0           0           1                   0   \n3           0           0           0           1                   0   \n4           1           0           0           0                   0   \n\n   authentication_A02  authentication_A03  authentication_A04  \\\n0                   0                   0                   0   \n1                   1                   0                   0   \n2                   0                   0                   0   \n3                   1                   0                   0   \n4                   1                   0                   0   \n\n   authentication_A05  authentication_A06  anomaly_iforest  \n0                   0                   1                0  \n1                   0                   0                0  \n2                   0                   1                0  \n3                   0                   0                0  \n4                   0                   0                0  \n"
     ]
    }
   ],
   "source": [
    "print(fds_pdf_encoded.head())"
   ]
  },
  {
   "cell_type": "code",
   "execution_count": 0,
   "metadata": {
    "application/vnd.databricks.v1+cell": {
     "cellMetadata": {
      "byteLimit": 2048000,
      "rowLimit": 10000
     },
     "inputWidgets": {},
     "nuid": "01da9704-3326-482d-8cf0-aa9c989be49e",
     "showTitle": false,
     "tableResultSettingsMap": {},
     "title": ""
    }
   },
   "outputs": [
    {
     "output_type": "stream",
     "name": "stderr",
     "output_type": "stream",
     "text": [
      "/databricks/spark/python/pyspark/sql/pandas/conversion.py:477: UserWarning: createDataFrame attempted Arrow optimization because 'spark.sql.execution.arrow.pyspark.enabled' is set to true; however, failed by the reason below:\n  Unable to convert the field payment_method_P01. If this column is not necessary, you may consider dropping it or converting to primitive type before the conversion.\nDirect cause: [UNSUPPORTED_DATA_TYPE_FOR_ARROW_CONVERSION] uint8 is not supported in conversion to Arrow.\nAttempting non-optimization as 'spark.sql.execution.arrow.pyspark.fallback.enabled' is set to true.\n  warn(msg)\n"
     ]
    },
    {
     "output_type": "display_data",
     "data": {
      "text/html": [
       "<style scoped>\n",
       "  .table-result-container {\n",
       "    max-height: 300px;\n",
       "    overflow: auto;\n",
       "  }\n",
       "  table, th, td {\n",
       "    border: 1px solid black;\n",
       "    border-collapse: collapse;\n",
       "  }\n",
       "  th, td {\n",
       "    padding: 5px;\n",
       "  }\n",
       "  th {\n",
       "    text-align: left;\n",
       "  }\n",
       "</style><div class='table-result-container'><table class='table-result'><thead style='background-color: white'><tr><th>transaction_time</th><th>TransactionDT</th><th>recipient</th><th>TransactionAmt</th><th>hour</th><th>voice_match</th><th>DeviceInfo</th><th>region</th><th>receiver_bank</th><th>receiver_account</th><th>is_new_account_for_user</th><th>avg_amount_to_bank</th><th>amount_ratio_to_bank_avg</th><th>is_nighttime</th><th>recent_transaction_gap</th><th>is_new_device</th><th>ip_address</th><th>vpn</th><th>app_version</th><th>rooting</th><th>payment_method_P01</th><th>payment_method_P02</th><th>payment_method_P03</th><th>payment_method_P04</th><th>payment_method_P05</th><th>payment_method_P06</th><th>intent_T01</th><th>intent_T02</th><th>intent_T03</th><th>intent_T04</th><th>intent_T05</th><th>authentication_A01</th><th>authentication_A02</th><th>authentication_A03</th><th>authentication_A04</th><th>authentication_A05</th><th>authentication_A06</th><th>anomaly_iforest</th></tr></thead><tbody><tr><td>2025-03-08 05:20:47</td><td>87532</td><td>명자</td><td>380210.0</td><td>5</td><td>1</td><td>NaN</td><td>광주</td><td>하나은행</td><td>1000000398441</td><td>0</td><td>89452</td><td>4.250435988015919</td><td>1</td><td>18.862544871110025</td><td>1</td><td>15.188.141.62</td><td>0</td><td>1.5.4</td><td>1</td><td>0</td><td>0</td><td>0</td><td>0</td><td>0</td><td>1</td><td>0</td><td>0</td><td>0</td><td>0</td><td>1</td><td>0</td><td>0</td><td>0</td><td>0</td><td>1</td><td>0</td><td>1</td></tr><tr><td>2025-04-23 19:47:12</td><td>87581</td><td>도윤</td><td>2454000.0</td><td>19</td><td>1</td><td>NaN</td><td>광주</td><td>하나은행</td><td>1000000538790</td><td>1</td><td>90721</td><td>27.04996638044113</td><td>0</td><td>115.41934277364273</td><td>1</td><td>116.44.59.33</td><td>1</td><td>3.1.1</td><td>1</td><td>0</td><td>0</td><td>1</td><td>0</td><td>0</td><td>0</td><td>0</td><td>0</td><td>0</td><td>0</td><td>1</td><td>0</td><td>0</td><td>0</td><td>1</td><td>0</td><td>0</td><td>1</td></tr><tr><td>2025-01-06 12:18:44</td><td>88107</td><td>정웅</td><td>527000.0</td><td>12</td><td>0</td><td>NaN</td><td>대구</td><td>신한은행</td><td>1000000555850</td><td>0</td><td>76753</td><td>6.866181126470627</td><td>0</td><td>115.64596318252252</td><td>1</td><td>185.253.50.136</td><td>0</td><td>1.6.4</td><td>0</td><td>0</td><td>0</td><td>0</td><td>1</td><td>0</td><td>0</td><td>0</td><td>1</td><td>0</td><td>0</td><td>0</td><td>1</td><td>0</td><td>0</td><td>0</td><td>0</td><td>0</td><td>1</td></tr><tr><td>2025-01-06 04:40:54</td><td>88162</td><td>유진</td><td>75000.0</td><td>4</td><td>1</td><td>iOS Device</td><td>속초</td><td>토스뱅크</td><td>1000000582828</td><td>0</td><td>95523</td><td>0.785151220124996</td><td>1</td><td>355.0833400328701</td><td>1</td><td>203.251.88.208</td><td>0</td><td>3.8.0</td><td>0</td><td>0</td><td>0</td><td>0</td><td>0</td><td>0</td><td>1</td><td>1</td><td>0</td><td>0</td><td>0</td><td>0</td><td>0</td><td>0</td><td>0</td><td>0</td><td>1</td><td>0</td><td>1</td></tr><tr><td>2025-01-05 20:19:01</td><td>88380</td><td>채원</td><td>1153950.0</td><td>20</td><td>0</td><td>NaN</td><td>부산</td><td>카카오뱅크</td><td>1000000564016</td><td>0</td><td>446310</td><td>2.5855347180211066</td><td>0</td><td>124.80687353452042</td><td>0</td><td>192.167.186.254</td><td>0</td><td>3.5.4</td><td>0</td><td>1</td><td>0</td><td>0</td><td>0</td><td>0</td><td>0</td><td>0</td><td>1</td><td>0</td><td>0</td><td>0</td><td>0</td><td>0</td><td>0</td><td>0</td><td>1</td><td>0</td><td>1</td></tr></tbody></table></div>"
      ]
     },
     "metadata": {
      "application/vnd.databricks.v1+output": {
       "addedWidgets": {},
       "aggData": [],
       "aggError": "",
       "aggOverflow": false,
       "aggSchema": [],
       "aggSeriesLimitReached": false,
       "aggType": "",
       "arguments": {},
       "columnCustomDisplayInfos": {},
       "data": [
        [
         "2025-03-08 05:20:47",
         87532,
         "명자",
         380210.0,
         5,
         1,
         "NaN",
         "광주",
         "하나은행",
         1000000398441,
         0,
         89452,
         4.250435988015919,
         1,
         18.862544871110025,
         1,
         "15.188.141.62",
         0,
         "1.5.4",
         1,
         0,
         0,
         0,
         0,
         0,
         1,
         0,
         0,
         0,
         0,
         1,
         0,
         0,
         0,
         0,
         1,
         0,
         1
        ],
        [
         "2025-04-23 19:47:12",
         87581,
         "도윤",
         2454000.0,
         19,
         1,
         "NaN",
         "광주",
         "하나은행",
         1000000538790,
         1,
         90721,
         27.04996638044113,
         0,
         115.41934277364273,
         1,
         "116.44.59.33",
         1,
         "3.1.1",
         1,
         0,
         0,
         1,
         0,
         0,
         0,
         0,
         0,
         0,
         0,
         1,
         0,
         0,
         0,
         1,
         0,
         0,
         1
        ],
        [
         "2025-01-06 12:18:44",
         88107,
         "정웅",
         527000.0,
         12,
         0,
         "NaN",
         "대구",
         "신한은행",
         1000000555850,
         0,
         76753,
         6.866181126470627,
         0,
         115.64596318252252,
         1,
         "185.253.50.136",
         0,
         "1.6.4",
         0,
         0,
         0,
         0,
         1,
         0,
         0,
         0,
         1,
         0,
         0,
         0,
         1,
         0,
         0,
         0,
         0,
         0,
         1
        ],
        [
         "2025-01-06 04:40:54",
         88162,
         "유진",
         75000.0,
         4,
         1,
         "iOS Device",
         "속초",
         "토스뱅크",
         1000000582828,
         0,
         95523,
         0.785151220124996,
         1,
         355.0833400328701,
         1,
         "203.251.88.208",
         0,
         "3.8.0",
         0,
         0,
         0,
         0,
         0,
         0,
         1,
         1,
         0,
         0,
         0,
         0,
         0,
         0,
         0,
         0,
         1,
         0,
         1
        ],
        [
         "2025-01-05 20:19:01",
         88380,
         "채원",
         1153950.0,
         20,
         0,
         "NaN",
         "부산",
         "카카오뱅크",
         1000000564016,
         0,
         446310,
         2.5855347180211066,
         0,
         124.80687353452042,
         0,
         "192.167.186.254",
         0,
         "3.5.4",
         0,
         1,
         0,
         0,
         0,
         0,
         0,
         0,
         1,
         0,
         0,
         0,
         0,
         0,
         0,
         0,
         1,
         0,
         1
        ]
       ],
       "datasetInfos": [],
       "dbfsResultPath": null,
       "isJsonSchema": true,
       "metadata": {},
       "overflow": false,
       "plotOptions": {
        "customPlotOptions": {},
        "displayType": "table",
        "pivotAggregation": null,
        "pivotColumns": null,
        "xColumns": null,
        "yColumns": null
       },
       "removedWidgets": [],
       "schema": [
        {
         "metadata": "{}",
         "name": "transaction_time",
         "type": "\"string\""
        },
        {
         "metadata": "{}",
         "name": "TransactionDT",
         "type": "\"long\""
        },
        {
         "metadata": "{}",
         "name": "recipient",
         "type": "\"string\""
        },
        {
         "metadata": "{}",
         "name": "TransactionAmt",
         "type": "\"double\""
        },
        {
         "metadata": "{}",
         "name": "hour",
         "type": "\"long\""
        },
        {
         "metadata": "{}",
         "name": "voice_match",
         "type": "\"long\""
        },
        {
         "metadata": "{}",
         "name": "DeviceInfo",
         "type": "\"string\""
        },
        {
         "metadata": "{}",
         "name": "region",
         "type": "\"string\""
        },
        {
         "metadata": "{}",
         "name": "receiver_bank",
         "type": "\"string\""
        },
        {
         "metadata": "{}",
         "name": "receiver_account",
         "type": "\"long\""
        },
        {
         "metadata": "{}",
         "name": "is_new_account_for_user",
         "type": "\"long\""
        },
        {
         "metadata": "{}",
         "name": "avg_amount_to_bank",
         "type": "\"long\""
        },
        {
         "metadata": "{}",
         "name": "amount_ratio_to_bank_avg",
         "type": "\"double\""
        },
        {
         "metadata": "{}",
         "name": "is_nighttime",
         "type": "\"long\""
        },
        {
         "metadata": "{}",
         "name": "recent_transaction_gap",
         "type": "\"double\""
        },
        {
         "metadata": "{}",
         "name": "is_new_device",
         "type": "\"long\""
        },
        {
         "metadata": "{}",
         "name": "ip_address",
         "type": "\"string\""
        },
        {
         "metadata": "{}",
         "name": "vpn",
         "type": "\"long\""
        },
        {
         "metadata": "{}",
         "name": "app_version",
         "type": "\"string\""
        },
        {
         "metadata": "{}",
         "name": "rooting",
         "type": "\"long\""
        },
        {
         "metadata": "{}",
         "name": "payment_method_P01",
         "type": "\"long\""
        },
        {
         "metadata": "{}",
         "name": "payment_method_P02",
         "type": "\"long\""
        },
        {
         "metadata": "{}",
         "name": "payment_method_P03",
         "type": "\"long\""
        },
        {
         "metadata": "{}",
         "name": "payment_method_P04",
         "type": "\"long\""
        },
        {
         "metadata": "{}",
         "name": "payment_method_P05",
         "type": "\"long\""
        },
        {
         "metadata": "{}",
         "name": "payment_method_P06",
         "type": "\"long\""
        },
        {
         "metadata": "{}",
         "name": "intent_T01",
         "type": "\"long\""
        },
        {
         "metadata": "{}",
         "name": "intent_T02",
         "type": "\"long\""
        },
        {
         "metadata": "{}",
         "name": "intent_T03",
         "type": "\"long\""
        },
        {
         "metadata": "{}",
         "name": "intent_T04",
         "type": "\"long\""
        },
        {
         "metadata": "{}",
         "name": "intent_T05",
         "type": "\"long\""
        },
        {
         "metadata": "{}",
         "name": "authentication_A01",
         "type": "\"long\""
        },
        {
         "metadata": "{}",
         "name": "authentication_A02",
         "type": "\"long\""
        },
        {
         "metadata": "{}",
         "name": "authentication_A03",
         "type": "\"long\""
        },
        {
         "metadata": "{}",
         "name": "authentication_A04",
         "type": "\"long\""
        },
        {
         "metadata": "{}",
         "name": "authentication_A05",
         "type": "\"long\""
        },
        {
         "metadata": "{}",
         "name": "authentication_A06",
         "type": "\"long\""
        },
        {
         "metadata": "{}",
         "name": "anomaly_iforest",
         "type": "\"long\""
        }
       ],
       "type": "table"
      }
     },
     "output_type": "display_data"
    }
   ],
   "source": [
    "anomalies = fds_pdf_encoded[fds_pdf_encoded['anomaly_iforest'] == 1]\n",
    "display(anomalies.head())\n"
   ]
  },
  {
   "cell_type": "code",
   "execution_count": 0,
   "metadata": {
    "application/vnd.databricks.v1+cell": {
     "cellMetadata": {
      "byteLimit": 2048000,
      "rowLimit": 10000
     },
     "inputWidgets": {},
     "nuid": "a2de0143-1344-4e08-ac59-e83197b72488",
     "showTitle": false,
     "tableResultSettingsMap": {},
     "title": ""
    }
   },
   "outputs": [
    {
     "output_type": "stream",
     "name": "stdout",
     "output_type": "stream",
     "text": [
      "                          Anomaly Mean  Normal Mean\nTransactionAmt               711861.64    104667.47\nhour                              8.36        11.65\nis_nighttime                      0.53         0.24\nvpn                               0.51         0.50\nis_new_device                     0.49         0.50\namount_ratio_to_bank_avg          4.30         0.50\n"
     ]
    }
   ],
   "source": [
    "normal = fds_pdf_encoded[fds_pdf_encoded['anomaly_iforest'] == 0]\n",
    "\n",
    "features_to_compare = [\n",
    "    'TransactionAmt', 'hour', 'is_nighttime', 'vpn',\n",
    "    'is_new_device', 'amount_ratio_to_bank_avg'\n",
    "]\n",
    "\n",
    "anomaly_mean = anomalies[features_to_compare].mean().round(2)\n",
    "normal_mean = normal[features_to_compare].mean().round(2)\n",
    "\n",
    "comparison_df = pd.DataFrame({\n",
    "    'Anomaly Mean': anomaly_mean,\n",
    "    'Normal Mean': normal_mean\n",
    "})\n",
    "print(comparison_df)"
   ]
  },
  {
   "cell_type": "markdown",
   "metadata": {
    "application/vnd.databricks.v1+cell": {
     "cellMetadata": {},
     "inputWidgets": {},
     "nuid": "1f357816-1e5a-4eda-acb7-8644df05b706",
     "showTitle": false,
     "tableResultSettingsMap": {},
     "title": ""
    }
   },
   "source": [
    "Unsupervised Learning 적용② - Autoencoder"
   ]
  },
  {
   "cell_type": "code",
   "execution_count": 0,
   "metadata": {
    "application/vnd.databricks.v1+cell": {
     "cellMetadata": {
      "byteLimit": 2048000,
      "rowLimit": 10000
     },
     "inputWidgets": {},
     "nuid": "50a730ae-b106-4f06-8e24-027d0958873e",
     "showTitle": false,
     "tableResultSettingsMap": {},
     "title": ""
    }
   },
   "outputs": [
    {
     "output_type": "stream",
     "name": "stdout",
     "output_type": "stream",
     "text": [
      "Collecting torch\n  Obtaining dependency information for torch from https://files.pythonhosted.org/packages/0e/6b/87fcddd34df9f53880fa1f0c23af7b6b96c935856473faf3914323588c40/torch-2.7.0-cp311-cp311-manylinux_2_28_x86_64.whl.metadata\n  Downloading torch-2.7.0-cp311-cp311-manylinux_2_28_x86_64.whl.metadata (29 kB)\nRequirement already satisfied: filelock in /databricks/python3/lib/python3.11/site-packages (from torch) (3.13.4)\nRequirement already satisfied: typing-extensions>=4.10.0 in /databricks/python3/lib/python3.11/site-packages (from torch) (4.10.0)\nCollecting sympy>=1.13.3 (from torch)\n  Obtaining dependency information for sympy>=1.13.3 from https://files.pythonhosted.org/packages/a2/09/77d55d46fd61b4a135c444fc97158ef34a095e5681d0a6c10b75bf356191/sympy-1.14.0-py3-none-any.whl.metadata\n  Downloading sympy-1.14.0-py3-none-any.whl.metadata (12 kB)\nCollecting networkx (from torch)\n  Obtaining dependency information for networkx from https://files.pythonhosted.org/packages/b9/54/dd730b32ea14ea797530a4479b2ed46a6fb250f682a9cfb997e968bf0261/networkx-3.4.2-py3-none-any.whl.metadata\n  Downloading networkx-3.4.2-py3-none-any.whl.metadata (6.3 kB)\nCollecting jinja2 (from torch)\n  Obtaining dependency information for jinja2 from https://files.pythonhosted.org/packages/62/a1/3d680cbfd5f4b8f15abc1d571870c5fc3e594bb582bc3b64ea099db13e56/jinja2-3.1.6-py3-none-any.whl.metadata\n  Downloading jinja2-3.1.6-py3-none-any.whl.metadata (2.9 kB)\nCollecting fsspec (from torch)\n  Obtaining dependency information for fsspec from https://files.pythonhosted.org/packages/44/4b/e0cfc1a6f17e990f3e64b7d941ddc4acdc7b19d6edd51abf495f32b1a9e4/fsspec-2025.3.2-py3-none-any.whl.metadata\n  Downloading fsspec-2025.3.2-py3-none-any.whl.metadata (11 kB)\nCollecting nvidia-cuda-nvrtc-cu12==12.6.77 (from torch)\n  Obtaining dependency information for nvidia-cuda-nvrtc-cu12==12.6.77 from https://files.pythonhosted.org/packages/75/2e/46030320b5a80661e88039f59060d1790298b4718944a65a7f2aeda3d9e9/nvidia_cuda_nvrtc_cu12-12.6.77-py3-none-manylinux2014_x86_64.whl.metadata\n  Downloading nvidia_cuda_nvrtc_cu12-12.6.77-py3-none-manylinux2014_x86_64.whl.metadata (1.5 kB)\nCollecting nvidia-cuda-runtime-cu12==12.6.77 (from torch)\n  Obtaining dependency information for nvidia-cuda-runtime-cu12==12.6.77 from https://files.pythonhosted.org/packages/e1/23/e717c5ac26d26cf39a27fbc076240fad2e3b817e5889d671b67f4f9f49c5/nvidia_cuda_runtime_cu12-12.6.77-py3-none-manylinux2014_x86_64.manylinux_2_17_x86_64.whl.metadata\n  Downloading nvidia_cuda_runtime_cu12-12.6.77-py3-none-manylinux2014_x86_64.manylinux_2_17_x86_64.whl.metadata (1.5 kB)\nCollecting nvidia-cuda-cupti-cu12==12.6.80 (from torch)\n  Obtaining dependency information for nvidia-cuda-cupti-cu12==12.6.80 from https://files.pythonhosted.org/packages/49/60/7b6497946d74bcf1de852a21824d63baad12cd417db4195fc1bfe59db953/nvidia_cuda_cupti_cu12-12.6.80-py3-none-manylinux2014_x86_64.manylinux_2_17_x86_64.whl.metadata\n  Downloading nvidia_cuda_cupti_cu12-12.6.80-py3-none-manylinux2014_x86_64.manylinux_2_17_x86_64.whl.metadata (1.6 kB)\nCollecting nvidia-cudnn-cu12==9.5.1.17 (from torch)\n  Obtaining dependency information for nvidia-cudnn-cu12==9.5.1.17 from https://files.pythonhosted.org/packages/2a/78/4535c9c7f859a64781e43c969a3a7e84c54634e319a996d43ef32ce46f83/nvidia_cudnn_cu12-9.5.1.17-py3-none-manylinux_2_28_x86_64.whl.metadata\n  Downloading nvidia_cudnn_cu12-9.5.1.17-py3-none-manylinux_2_28_x86_64.whl.metadata (1.6 kB)\nCollecting nvidia-cublas-cu12==12.6.4.1 (from torch)\n  Obtaining dependency information for nvidia-cublas-cu12==12.6.4.1 from https://files.pythonhosted.org/packages/af/eb/ff4b8c503fa1f1796679dce648854d58751982426e4e4b37d6fce49d259c/nvidia_cublas_cu12-12.6.4.1-py3-none-manylinux2014_x86_64.manylinux_2_17_x86_64.whl.metadata\n  Downloading nvidia_cublas_cu12-12.6.4.1-py3-none-manylinux2014_x86_64.manylinux_2_17_x86_64.whl.metadata (1.5 kB)\nCollecting nvidia-cufft-cu12==11.3.0.4 (from torch)\n  Obtaining dependency information for nvidia-cufft-cu12==11.3.0.4 from https://files.pythonhosted.org/packages/8f/16/73727675941ab8e6ffd86ca3a4b7b47065edcca7a997920b831f8147c99d/nvidia_cufft_cu12-11.3.0.4-py3-none-manylinux2014_x86_64.manylinux_2_17_x86_64.whl.metadata\n  Downloading nvidia_cufft_cu12-11.3.0.4-py3-none-manylinux2014_x86_64.manylinux_2_17_x86_64.whl.metadata (1.5 kB)\nCollecting nvidia-curand-cu12==10.3.7.77 (from torch)\n  Obtaining dependency information for nvidia-curand-cu12==10.3.7.77 from https://files.pythonhosted.org/packages/73/1b/44a01c4e70933637c93e6e1a8063d1e998b50213a6b65ac5a9169c47e98e/nvidia_curand_cu12-10.3.7.77-py3-none-manylinux2014_x86_64.manylinux_2_17_x86_64.whl.metadata\n  Downloading nvidia_curand_cu12-10.3.7.77-py3-none-manylinux2014_x86_64.manylinux_2_17_x86_64.whl.metadata (1.5 kB)\nCollecting nvidia-cusolver-cu12==11.7.1.2 (from torch)\n  Obtaining dependency information for nvidia-cusolver-cu12==11.7.1.2 from https://files.pythonhosted.org/packages/f0/6e/c2cf12c9ff8b872e92b4a5740701e51ff17689c4d726fca91875b07f655d/nvidia_cusolver_cu12-11.7.1.2-py3-none-manylinux2014_x86_64.manylinux_2_17_x86_64.whl.metadata\n  Downloading nvidia_cusolver_cu12-11.7.1.2-py3-none-manylinux2014_x86_64.manylinux_2_17_x86_64.whl.metadata (1.6 kB)\nCollecting nvidia-cusparse-cu12==12.5.4.2 (from torch)\n  Obtaining dependency information for nvidia-cusparse-cu12==12.5.4.2 from https://files.pythonhosted.org/packages/06/1e/b8b7c2f4099a37b96af5c9bb158632ea9e5d9d27d7391d7eb8fc45236674/nvidia_cusparse_cu12-12.5.4.2-py3-none-manylinux2014_x86_64.manylinux_2_17_x86_64.whl.metadata\n  Downloading nvidia_cusparse_cu12-12.5.4.2-py3-none-manylinux2014_x86_64.manylinux_2_17_x86_64.whl.metadata (1.6 kB)\nCollecting nvidia-cusparselt-cu12==0.6.3 (from torch)\n  Obtaining dependency information for nvidia-cusparselt-cu12==0.6.3 from https://files.pythonhosted.org/packages/3b/9a/72ef35b399b0e183bc2e8f6f558036922d453c4d8237dab26c666a04244b/nvidia_cusparselt_cu12-0.6.3-py3-none-manylinux2014_x86_64.whl.metadata\n  Downloading nvidia_cusparselt_cu12-0.6.3-py3-none-manylinux2014_x86_64.whl.metadata (6.8 kB)\nCollecting nvidia-nccl-cu12==2.26.2 (from torch)\n  Obtaining dependency information for nvidia-nccl-cu12==2.26.2 from https://files.pythonhosted.org/packages/67/ca/f42388aed0fddd64ade7493dbba36e1f534d4e6fdbdd355c6a90030ae028/nvidia_nccl_cu12-2.26.2-py3-none-manylinux2014_x86_64.manylinux_2_17_x86_64.whl.metadata\n  Downloading nvidia_nccl_cu12-2.26.2-py3-none-manylinux2014_x86_64.manylinux_2_17_x86_64.whl.metadata (2.0 kB)\nCollecting nvidia-nvtx-cu12==12.6.77 (from torch)\n  Obtaining dependency information for nvidia-nvtx-cu12==12.6.77 from https://files.pythonhosted.org/packages/56/9a/fff8376f8e3d084cd1530e1ef7b879bb7d6d265620c95c1b322725c694f4/nvidia_nvtx_cu12-12.6.77-py3-none-manylinux2014_x86_64.manylinux_2_17_x86_64.whl.metadata\n  Downloading nvidia_nvtx_cu12-12.6.77-py3-none-manylinux2014_x86_64.manylinux_2_17_x86_64.whl.metadata (1.6 kB)\nCollecting nvidia-nvjitlink-cu12==12.6.85 (from torch)\n  Obtaining dependency information for nvidia-nvjitlink-cu12==12.6.85 from https://files.pythonhosted.org/packages/9d/d7/c5383e47c7e9bf1c99d5bd2a8c935af2b6d705ad831a7ec5c97db4d82f4f/nvidia_nvjitlink_cu12-12.6.85-py3-none-manylinux2010_x86_64.manylinux_2_12_x86_64.whl.metadata\n  Downloading nvidia_nvjitlink_cu12-12.6.85-py3-none-manylinux2010_x86_64.manylinux_2_12_x86_64.whl.metadata (1.5 kB)\nCollecting nvidia-cufile-cu12==1.11.1.6 (from torch)\n  Obtaining dependency information for nvidia-cufile-cu12==1.11.1.6 from https://files.pythonhosted.org/packages/b2/66/cc9876340ac68ae71b15c743ddb13f8b30d5244af344ec8322b449e35426/nvidia_cufile_cu12-1.11.1.6-py3-none-manylinux2014_x86_64.manylinux_2_17_x86_64.whl.metadata\n  Downloading nvidia_cufile_cu12-1.11.1.6-py3-none-manylinux2014_x86_64.manylinux_2_17_x86_64.whl.metadata (1.5 kB)\nCollecting triton==3.3.0 (from torch)\n  Obtaining dependency information for triton==3.3.0 from https://files.pythonhosted.org/packages/3c/c5/4874a81131cc9e934d88377fbc9d24319ae1fb540f3333b4e9c696ebc607/triton-3.3.0-cp311-cp311-manylinux_2_27_x86_64.manylinux_2_28_x86_64.whl.metadata\n  Downloading triton-3.3.0-cp311-cp311-manylinux_2_27_x86_64.manylinux_2_28_x86_64.whl.metadata (1.5 kB)\nRequirement already satisfied: setuptools>=40.8.0 in /databricks/python3/lib/python3.11/site-packages (from triton==3.3.0->torch) (68.0.0)\nCollecting mpmath<1.4,>=1.1.0 (from sympy>=1.13.3->torch)\n  Obtaining dependency information for mpmath<1.4,>=1.1.0 from https://files.pythonhosted.org/packages/43/e3/7d92a15f894aa0c9c4b49b8ee9ac9850d6e63b03c9c32c0367a13ae62209/mpmath-1.3.0-py3-none-any.whl.metadata\n  Downloading mpmath-1.3.0-py3-none-any.whl.metadata (8.6 kB)\nCollecting MarkupSafe>=2.0 (from jinja2->torch)\n  Obtaining dependency information for MarkupSafe>=2.0 from https://files.pythonhosted.org/packages/f1/a4/aefb044a2cd8d7334c8a47d3fb2c9f328ac48cb349468cc31c20b539305f/MarkupSafe-3.0.2-cp311-cp311-manylinux_2_17_x86_64.manylinux2014_x86_64.whl.metadata\n  Downloading MarkupSafe-3.0.2-cp311-cp311-manylinux_2_17_x86_64.manylinux2014_x86_64.whl.metadata (4.0 kB)\nDownloading torch-2.7.0-cp311-cp311-manylinux_2_28_x86_64.whl (865.2 MB)\n\u001B[?25l   \u001B[90m━━━━━━━━━━━━━━━━━━━━━━━━━━━━━━━━━━━━━━━━\u001B[0m \u001B[32m0.0/865.2 MB\u001B[0m \u001B[31m?\u001B[0m eta \u001B[36m-:--:--\u001B[0m\n\u001B[2K   \u001B[90m━━━━━━━━━━━━━━━━━━━━━━━━━━━━━━━━━━━━━━━━\u001B[0m \u001B[32m0.3/865.2 MB\u001B[0m \u001B[31m9.4 MB/s\u001B[0m eta \u001B[36m0:01:33\u001B[0m\n\u001B[2K   \u001B[90m━━━━━━━━━━━━━━━━━━━━━━━━━━━━━━━━━━━━━━━━\u001B[0m \u001B[32m1.9/865.2 MB\u001B[0m \u001B[31m27.9 MB/s\u001B[0m eta \u001B[36m0:00:31\u001B[0m\n\u001B[2K   \u001B[90m━━━━━━━━━━━━━━━━━━━━━━━━━━━━━━━━━━━━━━━━\u001B[0m \u001B[32m7.1/865.2 MB\u001B[0m \u001B[31m69.2 MB/s\u001B[0m eta \u001B[36m0:00:13\u001B[0m\n\u001B[2K   \u001B[90m━━━━━━━━━━━━━━━━━━━━━━━━━━━━━━━━━━━━━━━━\u001B[0m \u001B[32m8.7/865.2 MB\u001B[0m \u001B[31m64.7 MB/s\u001B[0m eta \u001B[36m0:00:14\u001B[0m\n\u001B[2K   \u001B[91m╸\u001B[0m\u001B[90m━━━━━━━━━━━━━━━━━━━━━━━━━━━━━━━━━━━━━━━\u001B[0m \u001B[32m11.0/865.2 MB\u001B[0m \u001B[31m83.4 MB/s\u001B[0m eta \u001B[36m0:00:11\u001B[0m\n\u001B[2K   \u001B[91m╸\u001B[0m\u001B[90m━━━━━━━━━━━━━━━━━━━━━━━━━━━━━━━━━━━━━━━\u001B[0m \u001B[32m17.3/865.2 MB\u001B[0m \u001B[31m97.4 MB/s\u001B[0m eta \u001B[36m0:00:09\u001B[0m\n\u001B[2K   \u001B[91m━\u001B[0m\u001B[90m╺\u001B[0m\u001B[90m━━━━━━━━━━━━━━━━━━━━━━━━━━━━━━━━━━━━━━\u001B[0m \u001B[32m23.1/865.2 MB\u001B[0m \u001B[31m171.8 MB/s\u001B[0m eta \u001B[36m0:00:05\u001B[0m\n\u001B[2K   \u001B[91m━\u001B[0m\u001B[90m╺\u001B[0m\u001B[90m━━━━━━━━━━━━━━━━━━━━━━━━━━━━━━━━━━━━━━\u001B[0m \u001B[32m26.2/865.2 MB\u001B[0m \u001B[31m130.9 MB/s\u001B[0m eta \u001B[36m0:00:07\u001B[0m\n\u001B[2K   \u001B[91m━\u001B[0m\u001B[91m╸\u001B[0m\u001B[90m━━━━━━━━━━━━━━━━━━━━━━━━━━━━━━━━━━━━━━\u001B[0m \u001B[32m32.7/865.2 MB\u001B[0m \u001B[31m134.5 MB/s\u001B[0m eta \u001B[36m0:00:07\u001B[0m\n\u001B[2K   \u001B[91m━\u001B[0m\u001B[91m╸\u001B[0m\u001B[90m━━━━━━━━━━━━━━━━━━━━━━━━━━━━━━━━━━━━━━\u001B[0m \u001B[32m39.6/865.2 MB\u001B[0m \u001B[31m188.8 MB/s\u001B[0m eta \u001B[36m0:00:05\u001B[0m\n\u001B[2K   \u001B[91m━━\u001B[0m\u001B[90m╺\u001B[0m\u001B[90m━━━━━━━━━━━━━━━━━━━━━━━━━━━━━━━━━━━━━\u001B[0m \u001B[32m46.6/865.2 MB\u001B[0m \u001B[31m203.8 MB/s\u001B[0m eta \u001B[36m0:00:05\u001B[0m\n\u001B[2K   \u001B[91m━━\u001B[0m\u001B[90m╺\u001B[0m\u001B[90m━━━━━━━━━━━━━━━━━━━━━━━━━━━━━━━━━━━━━\u001B[0m \u001B[32m53.3/865.2 MB\u001B[0m \u001B[31m199.2 MB/s\u001B[0m eta \u001B[36m0:00:05\u001B[0m\n\u001B[2K   \u001B[91m━━\u001B[0m\u001B[91m╸\u001B[0m\u001B[90m━━━━━━━━━━━━━━━━━━━━━━━━━━━━━━━━━━━━━\u001B[0m \u001B[32m60.4/865.2 MB\u001B[0m \u001B[31m202.0 MB/s\u001B[0m eta \u001B[36m0:00:04\u001B[0m\n\u001B[2K   \u001B[91m━━━\u001B[0m\u001B[90m╺\u001B[0m\u001B[90m━━━━━━━━━━━━━━━━━━━━━━━━━━━━━━━━━━━━\u001B[0m \u001B[32m67.4/865.2 MB\u001B[0m \u001B[31m204.4 MB/s\u001B[0m eta \u001B[36m0:00:04\u001B[0m\n\u001B[2K   \u001B[91m━━━\u001B[0m\u001B[90m╺\u001B[0m\u001B[90m━━━━━━━━━━━━━━━━━━━━━━━━━━━━━━━━━━━━\u001B[0m \u001B[32m74.3/865.2 MB\u001B[0m \u001B[31m202.7 MB/s\u001B[0m eta \u001B[36m0:00:04\u001B[0m\n\u001B[2K   \u001B[91m━━━\u001B[0m\u001B[91m╸\u001B[0m\u001B[90m━━━━━━━━━━━━━━━━━━━━━━━━━━━━━━━━━━━━\u001B[0m \u001B[32m81.2/865.2 MB\u001B[0m \u001B[31m202.2 MB/s\u001B[0m eta \u001B[36m0:00:04\u001B[0m\n\u001B[2K   \u001B[91m━━━━\u001B[0m\u001B[90m╺\u001B[0m\u001B[90m━━━━━━━━━━━━━━━━━━━━━━━━━━━━━━━━━━━\u001B[0m \u001B[32m88.0/865.2 MB\u001B[0m \u001B[31m202.2 MB/s\u001B[0m eta \u001B[36m0:00:04\u001B[0m\n\u001B[2K   \u001B[91m━━━━\u001B[0m\u001B[90m╺\u001B[0m\u001B[90m━━━━━━━━━━━━━━━━━━━━━━━━━━━━━━━━━━━\u001B[0m \u001B[32m91.5/865.2 MB\u001B[0m \u001B[31m151.5 MB/s\u001B[0m eta \u001B[36m0:00:06\u001B[0m\n\u001B[2K   \u001B[91m━━━━\u001B[0m\u001B[91m╸\u001B[0m\u001B[90m━━━━━━━━━━━━━━━━━━━━━━━━━━━━━━━━━━━\u001B[0m \u001B[32m97.5/865.2 MB\u001B[0m \u001B[31m132.8 MB/s\u001B[0m eta \u001B[36m0:00:06\u001B[0m\n\u001B[2K   \u001B[91m━━━━\u001B[0m\u001B[91m╸\u001B[0m\u001B[90m━━━━━━━━━━━━━━━━━━━━━━━━━━━━━━━━━━\u001B[0m \u001B[32m102.8/865.2 MB\u001B[0m \u001B[31m157.4 MB/s\u001B[0m eta \u001B[36m0:00:05\u001B[0m\n\u001B[2K   \u001B[91m━━━━\u001B[0m\u001B[91m╸\u001B[0m\u001B[90m━━━━━━━━━━━━━━━━━━━━━━━━━━━━━━━━━━\u001B[0m \u001B[32m108.6/865.2 MB\u001B[0m \u001B[31m164.1 MB/s\u001B[0m eta \u001B[36m0:00:05\u001B[0m\n\u001B[2K   \u001B[91m━━━━\u001B[0m\u001B[91m╸\u001B[0m\u001B[90m━━━━━━━━━━━━━━━━━━━━━━━━━━━━━━━━━━\u001B[0m \u001B[32m109.0/865.2 MB\u001B[0m \u001B[31m161.2 MB/s\u001B[0m eta \u001B[36m0:00:05\u001B[0m\n\u001B[2K   \u001B[91m━━━━\u001B[0m\u001B[91m╸\u001B[0m\u001B[90m━━━━━━━━━━━━━━━━━━━━━━━━━━━━━━━━━━\u001B[0m \u001B[32m109.0/865.2 MB\u001B[0m \u001B[31m161.2 MB/s\u001B[0m eta \u001B[36m0:00:05\u001B[0m\n\u001B[2K   \u001B[91m━━━━\u001B[0m\u001B[91m╸\u001B[0m\u001B[90m━━━━━━━━━━━━━━━━━━━━━━━━━━━━━━━━━━\u001B[0m \u001B[32m109.0/865.2 MB\u001B[0m \u001B[31m161.2 MB/s\u001B[0m eta \u001B[36m0:00:05\u001B[0m\n\u001B[2K   \u001B[91m━━━━\u001B[0m\u001B[91m╸\u001B[0m\u001B[90m━━━━━━━━━━━━━━━━━━━━━━━━━━━━━━━━━━\u001B[0m \u001B[32m109.0/865.2 MB\u001B[0m \u001B[31m161.2 MB/s\u001B[0m eta \u001B[36m0:00:05\u001B[0m\n\u001B[2K   \u001B[91m━━━━━\u001B[0m\u001B[90m╺\u001B[0m\u001B[90m━━━━━━━━━━━━━━━━━━━━━━━━━━━━━━━━━━\u001B[0m \u001B[32m109.4/865.2 MB\u001B[0m \u001B[31m43.6 MB/s\u001B[0m eta \u001B[36m0:00:18\u001B[0m\n\u001B[2K   \u001B[91m━━━━━\u001B[0m\u001B[90m╺\u001B[0m\u001B[90m━━━━━━━━━━━━━━━━━━━━━━━━━━━━━━━━━━\u001B[0m \u001B[32m115.1/865.2 MB\u001B[0m \u001B[31m43.7 MB/s\u001B[0m eta \u001B[36m0:00:18\u001B[0m\n\u001B[2K   \u001B[91m━━━━━\u001B[0m\u001B[90m╺\u001B[0m\u001B[90m━━━━━━━━━━━━━━━━━━━━━━━━━━━━━━━━━\u001B[0m \u001B[32m121.3/865.2 MB\u001B[0m \u001B[31m171.9 MB/s\u001B[0m eta \u001B[36m0:00:05\u001B[0m\n\u001B[2K   \u001B[91m━━━━━\u001B[0m\u001B[91m╸\u001B[0m\u001B[90m━━━━━━━━━━━━━━━━━━━━━━━━━━━━━━━━━\u001B[0m \u001B[32m128.1/865.2 MB\u001B[0m \u001B[31m187.5 MB/s\u001B[0m eta \u001B[36m0:00:04\u001B[0m\n\u001B[2K   \u001B[91m━━━━━━\u001B[0m\u001B[90m╺\u001B[0m\u001B[90m━━━━━━━━━━━━━━━━━━━━━━━━━━━━━━━━\u001B[0m \u001B[32m134.9/865.2 MB\u001B[0m \u001B[31m199.5 MB/s\u001B[0m eta \u001B[36m0:00:04\u001B[0m\n\u001B[2K   \u001B[91m━━━━━━\u001B[0m\u001B[90m╺\u001B[0m\u001B[90m━━━━━━━━━━━━━━━━━━━━━━━━━━━━━━━━\u001B[0m \u001B[32m141.6/865.2 MB\u001B[0m \u001B[31m195.4 MB/s\u001B[0m eta \u001B[36m0:00:04\u001B[0m\n\u001B[2K   \u001B[91m━━━━━━\u001B[0m\u001B[91m╸\u001B[0m\u001B[90m━━━━━━━━━━━━━━━━━━━━━━━━━━━━━━━━\u001B[0m \u001B[32m148.6/865.2 MB\u001B[0m \u001B[31m196.7 MB/s\u001B[0m eta \u001B[36m0:00:04\u001B[0m\n\u001B[2K   \u001B[91m━━━━━━\u001B[0m\u001B[91m╸\u001B[0m\u001B[90m━━━━━━━━━━━━━━━━━━━━━━━━━━━━━━━━\u001B[0m \u001B[32m154.7/865.2 MB\u001B[0m \u001B[31m184.3 MB/s\u001B[0m eta \u001B[36m0:00:04\u001B[0m\n\u001B[2K   \u001B[91m━━━━━━━\u001B[0m\u001B[90m╺\u001B[0m\u001B[90m━━━━━━━━━━━━━━━━━━━━━━━━━━━━━━━\u001B[0m \u001B[32m161.3/865.2 MB\u001B[0m \u001B[31m194.4 MB/s\u001B[0m eta \u001B[36m0:00:04\u001B[0m\n\u001B[2K   \u001B[91m━━━━━━━\u001B[0m\u001B[91m╸\u001B[0m\u001B[90m━━━━━━━━━━━━━━━━━━━━━━━━━━━━━━━\u001B[0m \u001B[32m168.2/865.2 MB\u001B[0m \u001B[31m196.3 MB/s\u001B[0m eta \u001B[36m0:00:04\u001B[0m\n\u001B[2K   \u001B[91m━━━━━━━\u001B[0m\u001B[91m╸\u001B[0m\u001B[90m━━━━━━━━━━━━━━━━━━━━━━━━━━━━━━━\u001B[0m \u001B[32m175.2/865.2 MB\u001B[0m \u001B[31m203.9 MB/s\u001B[0m eta \u001B[36m0:00:04\u001B[0m\n\u001B[2K   \u001B[91m━━━━━━━━\u001B[0m\u001B[90m╺\u001B[0m\u001B[90m━━━━━━━━━━━━━━━━━━━━━━━━━━━━━━\u001B[0m \u001B[32m182.1/865.2 MB\u001B[0m \u001B[31m191.4 MB/s\u001B[0m eta \u001B[36m0:00:04\u001B[0m\n\u001B[2K   \u001B[91m━━━━━━━━\u001B[0m\u001B[91m╸\u001B[0m\u001B[90m━━━━━━━━━━━━━━━━━━━━━━━━━━━━━━\u001B[0m \u001B[32m188.7/865.2 MB\u001B[0m \u001B[31m189.7 MB/s\u001B[0m eta \u001B[36m0:00:04\u001B[0m\n\u001B[2K   \u001B[91m━━━━━━━━\u001B[0m\u001B[91m╸\u001B[0m\u001B[90m━━━━━━━━━━━━━━━━━━━━━━━━━━━━━━\u001B[0m \u001B[32m195.6/865.2 MB\u001B[0m \u001B[31m194.6 MB/s\u001B[0m eta \u001B[36m0:00:04\u001B[0m\n\u001B[2K   \u001B[91m━━━━━━━━\u001B[0m\u001B[91m╸\u001B[0m\u001B[90m━━━━━━━━━━━━━━━━━━━━━━━━━━━━━━\u001B[0m \u001B[32m198.4/865.2 MB\u001B[0m \u001B[31m193.7 MB/s\u001B[0m eta \u001B[36m0:00:04\u001B[0m\n\u001B[2K   \u001B[91m━━━━━━━━━\u001B[0m\u001B[90m╺\u001B[0m\u001B[90m━━━━━━━━━━━━━━━━━━━━━━━━━━━━━━\u001B[0m \u001B[32m198.5/865.2 MB\u001B[0m \u001B[31m95.4 MB/s\u001B[0m eta \u001B[36m0:00:07\u001B[0m\n\u001B[2K   \u001B[91m━━━━━━━━━\u001B[0m\u001B[90m╺\u001B[0m\u001B[90m━━━━━━━━━━━━━━━━━━━━━━━━━━━━━━\u001B[0m \u001B[32m198.7/865.2 MB\u001B[0m \u001B[31m74.7 MB/s\u001B[0m eta \u001B[36m0:00:09\u001B[0m\n\u001B[2K   \u001B[91m━━━━━━━━━\u001B[0m\u001B[90m╺\u001B[0m\u001B[90m━━━━━━━━━━━━━━━━━━━━━━━━━━━━━━\u001B[0m \u001B[32m199.0/865.2 MB\u001B[0m \u001B[31m57.7 MB/s\u001B[0m eta \u001B[36m0:00:12\u001B[0m\n\u001B[2K   \u001B[91m━━━━━━━━━\u001B[0m\u001B[90m╺\u001B[0m\u001B[90m━━━━━━━━━━━━━━━━━━━━━━━━━━━━━━\u001B[0m \u001B[32m200.8/865.2 MB\u001B[0m \u001B[31m50.4 MB/s\u001B[0m eta \u001B[36m0:00:14\u001B[0m\n\u001B[2K   \u001B[91m━━━━━━━━━\u001B[0m\u001B[91m╸\u001B[0m\u001B[90m━━━━━━━━━━━━━━━━━━━━━━━━━━━━━━\u001B[0m \u001B[32m207.9/865.2 MB\u001B[0m \u001B[31m50.8 MB/s\u001B[0m eta \u001B[36m0:00:13\u001B[0m\n\u001B[2K   \u001B[91m━━━━━━━━━\u001B[0m\u001B[91m╸\u001B[0m\u001B[90m━━━━━━━━━━━━━━━━━━━━━━━━━━━━━\u001B[0m \u001B[32m214.9/865.2 MB\u001B[0m \u001B[31m203.6 MB/s\u001B[0m eta \u001B[36m0:00:04\u001B[0m\n\u001B[2K   \u001B[91m━━━━━━━━━\u001B[0m\u001B[91m╸\u001B[0m\u001B[90m━━━━━━━━━━━━━━━━━━━━━━━━━━━━━\u001B[0m \u001B[32m221.5/865.2 MB\u001B[0m \u001B[31m199.6 MB/s\u001B[0m eta \u001B[36m0:00:04\u001B[0m\n\u001B[2K   \u001B[91m━━━━━━━━━━\u001B[0m\u001B[90m╺\u001B[0m\u001B[90m━━━━━━━━━━━━━━━━━━━━━━━━━━━━\u001B[0m \u001B[32m228.1/865.2 MB\u001B[0m \u001B[31m188.4 MB/s\u001B[0m eta \u001B[36m0:00:04\u001B[0m\n\u001B[2K   \u001B[91m━━━━━━━━━━\u001B[0m\u001B[91m╸\u001B[0m\u001B[90m━━━━━━━━━━━━━━━━━━━━━━━━━━━━\u001B[0m \u001B[32m234.8/865.2 MB\u001B[0m \u001B[31m196.1 MB/s\u001B[0m eta \u001B[36m0:00:04\u001B[0m\n\u001B[2K   \u001B[91m━━━━━━━━━━\u001B[0m\u001B[91m╸\u001B[0m\u001B[90m━━━━━━━━━━━━━━━━━━━━━━━━━━━━\u001B[0m \u001B[32m242.4/865.2 MB\u001B[0m \u001B[31m193.3 MB/s\u001B[0m eta \u001B[36m0:00:04\u001B[0m\n\u001B[2K   \u001B[91m━━━━━━━━━━━\u001B[0m\u001B[90m╺\u001B[0m\u001B[90m━━━━━━━━━━━━━━━━━━━━━━━━━━━\u001B[0m \u001B[32m249.4/865.2 MB\u001B[0m \u001B[31m196.2 MB/s\u001B[0m eta \u001B[36m0:00:04\u001B[0m\n\u001B[2K   \u001B[91m━━━━━━━━━━━\u001B[0m\u001B[91m╸\u001B[0m\u001B[90m━━━━━━━━━━━━━━━━━━━━━━━━━━━\u001B[0m \u001B[32m256.3/865.2 MB\u001B[0m \u001B[31m200.3 MB/s\u001B[0m eta \u001B[36m0:00:04\u001B[0m\n\u001B[2K   \u001B[91m━━━━━━━━━━━\u001B[0m\u001B[91m╸\u001B[0m\u001B[90m━━━━━━━━━━━━━━━━━━━━━━━━━━━\u001B[0m \u001B[32m263.2/865.2 MB\u001B[0m \u001B[31m199.0 MB/s\u001B[0m eta \u001B[36m0:00:04\u001B[0m\n\u001B[2K   \u001B[91m━━━━━━━━━━━━\u001B[0m\u001B[90m╺\u001B[0m\u001B[90m━━━━━━━━━━━━━━━━━━━━━━━━━━\u001B[0m \u001B[32m270.2/865.2 MB\u001B[0m \u001B[31m200.3 MB/s\u001B[0m eta \u001B[36m0:00:03\u001B[0m\n\u001B[2K   \u001B[91m━━━━━━━━━━━━\u001B[0m\u001B[90m╺\u001B[0m\u001B[90m━━━━━━━━━━━━━━━━━━━━━━━━━━\u001B[0m \u001B[32m277.1/865.2 MB\u001B[0m \u001B[31m201.3 MB/s\u001B[0m eta \u001B[36m0:00:03\u001B[0m\n\u001B[2K   \u001B[91m━━━━━━━━━━━━\u001B[0m\u001B[91m╸\u001B[0m\u001B[90m━━━━━━━━━━━━━━━━━━━━━━━━━━\u001B[0m \u001B[32m280.0/865.2 MB\u001B[0m \u001B[31m202.3 MB/s\u001B[0m eta \u001B[36m0:00:03\u001B[0m\n\u001B[2K   \u001B[91m━━━━━━━━━━━━\u001B[0m\u001B[91m╸\u001B[0m\u001B[90m━━━━━━━━━━━━━━━━━━━━━━━━━━\u001B[0m \u001B[32m280.0/865.2 MB\u001B[0m \u001B[31m202.3 MB/s\u001B[0m eta \u001B[36m0:00:03\u001B[0m\n\u001B[2K   \u001B[91m━━━━━━━━━━━━\u001B[0m\u001B[91m╸\u001B[0m\u001B[90m━━━━━━━━━━━━━━━━━━━━━━━━━━\u001B[0m \u001B[32m280.0/865.2 MB\u001B[0m \u001B[31m202.3 MB/s\u001B[0m eta \u001B[36m0:00:03\u001B[0m\n\u001B[2K   \u001B[91m━━━━━━━━━━━━\u001B[0m\u001B[91m╸\u001B[0m\u001B[90m━━━━━━━━━━━━━━━━━━━━━━━━━━\u001B[0m \u001B[32m280.0/865.2 MB\u001B[0m \u001B[31m202.3 MB/s\u001B[0m eta \u001B[36m0:00:03\u001B[0m\n\u001B[2K   \u001B[91m━━━━━━━━━━━━\u001B[0m\u001B[91m╸\u001B[0m\u001B[90m━━━━━━━━━━━━━━━━━━━━━━━━━━\u001B[0m \u001B[32m280.0/865.2 MB\u001B[0m \u001B[31m202.3 MB/s\u001B[0m eta \u001B[36m0:00:03\u001B[0m\n\u001B[2K   \u001B[91m━━━━━━━━━━━━\u001B[0m\u001B[91m╸\u001B[0m\u001B[90m━━━━━━━━━━━━━━━━━━━━━━━━━━\u001B[0m \u001B[32m280.0/865.2 MB\u001B[0m \u001B[31m202.3 MB/s\u001B[0m eta \u001B[36m0:00:03\u001B[0m\n\u001B[2K   \u001B[91m━━━━━━━━━━━━\u001B[0m\u001B[91m╸\u001B[0m\u001B[90m━━━━━━━━━━━━━━━━━━━━━━━━━━\u001B[0m \u001B[32m280.0/865.2 MB\u001B[0m \u001B[31m202.3 MB/s\u001B[0m eta \u001B[36m0:00:03\u001B[0m\n\u001B[2K   \u001B[91m━━━━━━━━━━━━\u001B[0m\u001B[91m╸\u001B[0m\u001B[90m━━━━━━━━━━━━━━━━━━━━━━━━━━\u001B[0m \u001B[32m280.0/865.2 MB\u001B[0m \u001B[31m202.3 MB/s\u001B[0m eta \u001B[36m0:00:03\u001B[0m\n\u001B[2K   \u001B[91m━━━━━━━━━━━━\u001B[0m\u001B[91m╸\u001B[0m\u001B[90m━━━━━━━━━━━━━━━━━━━━━━━━━━\u001B[0m \u001B[32m280.0/865.2 MB\u001B[0m \u001B[31m202.3 MB/s\u001B[0m eta \u001B[36m0:00:03\u001B[0m\n\u001B[2K   \u001B[91m━━━━━━━━━━━━\u001B[0m\u001B[91m╸\u001B[0m\u001B[90m━━━━━━━━━━━━━━━━━━━━━━━━━━\u001B[0m \u001B[32m280.0/865.2 MB\u001B[0m \u001B[31m202.3 MB/s\u001B[0m eta \u001B[36m0:00:03\u001B[0m\n\u001B[2K   \u001B[91m━━━━━━━━━━━━\u001B[0m\u001B[91m╸\u001B[0m\u001B[90m━━━━━━━━━━━━━━━━━━━━━━━━━━\u001B[0m \u001B[32m280.0/865.2 MB\u001B[0m \u001B[31m202.3 MB/s\u001B[0m eta \u001B[36m0:00:03\u001B[0m\n\u001B[2K   \u001B[91m━━━━━━━━━━━━\u001B[0m\u001B[91m╸\u001B[0m\u001B[90m━━━━━━━━━━━━━━━━━━━━━━━━━━\u001B[0m \u001B[32m280.0/865.2 MB\u001B[0m \u001B[31m202.3 MB/s\u001B[0m eta \u001B[36m0:00:03\u001B[0m\n\u001B[2K   \u001B[91m━━━━━━━━━━━━\u001B[0m\u001B[91m╸\u001B[0m\u001B[90m━━━━━━━━━━━━━━━━━━━━━━━━━━\u001B[0m \u001B[32m280.0/865.2 MB\u001B[0m \u001B[31m202.3 MB/s\u001B[0m eta \u001B[36m0:00:03\u001B[0m\n\u001B[2K   \u001B[91m━━━━━━━━━━━━\u001B[0m\u001B[91m╸\u001B[0m\u001B[90m━━━━━━━━━━━━━━━━━━━━━━━━━━\u001B[0m \u001B[32m280.0/865.2 MB\u001B[0m \u001B[31m202.3 MB/s\u001B[0m eta \u001B[36m0:00:03\u001B[0m\n\u001B[2K   \u001B[91m━━━━━━━━━━━━\u001B[0m\u001B[91m╸\u001B[0m\u001B[90m━━━━━━━━━━━━━━━━━━━━━━━━━━\u001B[0m \u001B[32m280.0/865.2 MB\u001B[0m \u001B[31m202.3 MB/s\u001B[0m eta \u001B[36m0:00:03\u001B[0m\n\u001B[2K   \u001B[91m━━━━━━━━━━━━\u001B[0m\u001B[91m╸\u001B[0m\u001B[90m━━━━━━━━━━━━━━━━━━━━━━━━━━\u001B[0m \u001B[32m280.0/865.2 MB\u001B[0m \u001B[31m202.3 MB/s\u001B[0m eta \u001B[36m0:00:03\u001B[0m\n\u001B[2K   \u001B[91m━━━━━━━━━━━━\u001B[0m\u001B[91m╸\u001B[0m\u001B[90m━━━━━━━━━━━━━━━━━━━━━━━━━━\u001B[0m \u001B[32m280.0/865.2 MB\u001B[0m \u001B[31m202.3 MB/s\u001B[0m eta \u001B[36m0:00:03\u001B[0m\n\u001B[2K   \u001B[91m━━━━━━━━━━━━\u001B[0m\u001B[91m╸\u001B[0m\u001B[90m━━━━━━━━━━━━━━━━━━━━━━━━━━\u001B[0m \u001B[32m280.0/865.2 MB\u001B[0m \u001B[31m202.3 MB/s\u001B[0m eta \u001B[36m0:00:03\u001B[0m\n\u001B[2K   \u001B[91m━━━━━━━━━━━━\u001B[0m\u001B[91m╸\u001B[0m\u001B[90m━━━━━━━━━━━━━━━━━━━━━━━━━━\u001B[0m \u001B[32m280.0/865.2 MB\u001B[0m \u001B[31m202.3 MB/s\u001B[0m eta \u001B[36m0:00:03\u001B[0m\n\u001B[2K   \u001B[91m━━━━━━━━━━━━\u001B[0m\u001B[91m╸\u001B[0m\u001B[90m━━━━━━━━━━━━━━━━━━━━━━━━━━\u001B[0m \u001B[32m280.0/865.2 MB\u001B[0m \u001B[31m202.3 MB/s\u001B[0m eta \u001B[36m0:00:03\u001B[0m\n\u001B[2K   \u001B[91m━━━━━━━━━━━━\u001B[0m\u001B[91m╸\u001B[0m\u001B[90m━━━━━━━━━━━━━━━━━━━━━━━━━━\u001B[0m \u001B[32m280.0/865.2 MB\u001B[0m \u001B[31m202.3 MB/s\u001B[0m eta \u001B[36m0:00:03\u001B[0m\n\u001B[2K   \u001B[91m━━━━━━━━━━━━\u001B[0m\u001B[91m╸\u001B[0m\u001B[90m━━━━━━━━━━━━━━━━━━━━━━━━━━\u001B[0m \u001B[32m280.0/865.2 MB\u001B[0m \u001B[31m202.3 MB/s\u001B[0m eta \u001B[36m0:00:03\u001B[0m\n\u001B[2K   \u001B[91m━━━━━━━━━━━━\u001B[0m\u001B[91m╸\u001B[0m\u001B[90m━━━━━━━━━━━━━━━━━━━━━━━━━━\u001B[0m \u001B[32m280.0/865.2 MB\u001B[0m \u001B[31m202.3 MB/s\u001B[0m eta \u001B[36m0:00:03\u001B[0m\n\u001B[2K   \u001B[91m━━━━━━━━━━━━\u001B[0m\u001B[91m╸\u001B[0m\u001B[90m━━━━━━━━━━━━━━━━━━━━━━━━━━\u001B[0m \u001B[32m280.0/865.2 MB\u001B[0m \u001B[31m202.3 MB/s\u001B[0m eta \u001B[36m0:00:03\u001B[0m\n\u001B[2K   \u001B[91m━━━━━━━━━━━━\u001B[0m\u001B[91m╸\u001B[0m\u001B[90m━━━━━━━━━━━━━━━━━━━━━━━━━━\u001B[0m \u001B[32m280.0/865.2 MB\u001B[0m \u001B[31m202.3 MB/s\u001B[0m eta \u001B[36m0:00:03\u001B[0m\n\u001B[2K   \u001B[91m━━━━━━━━━━━━\u001B[0m\u001B[91m╸\u001B[0m\u001B[90m━━━━━━━━━━━━━━━━━━━━━━━━━━\u001B[0m \u001B[32m280.0/865.2 MB\u001B[0m \u001B[31m202.3 MB/s\u001B[0m eta \u001B[36m0:00:03\u001B[0m\n\u001B[2K   \u001B[91m━━━━━━━━━━━━\u001B[0m\u001B[91m╸\u001B[0m\u001B[90m━━━━━━━━━━━━━━━━━━━━━━━━━━\u001B[0m \u001B[32m280.0/865.2 MB\u001B[0m \u001B[31m202.3 MB/s\u001B[0m eta \u001B[36m0:00:03\u001B[0m\n\u001B[2K   \u001B[91m━━━━━━━━━━━━\u001B[0m\u001B[91m╸\u001B[0m\u001B[90m━━━━━━━━━━━━━━━━━━━━━━━━━━\u001B[0m \u001B[32m280.0/865.2 MB\u001B[0m \u001B[31m202.3 MB/s\u001B[0m eta \u001B[36m0:00:03\u001B[0m\n\u001B[2K   \u001B[91m━━━━━━━━━━━━\u001B[0m\u001B[91m╸\u001B[0m\u001B[90m━━━━━━━━━━━━━━━━━━━━━━━━━━\u001B[0m \u001B[32m280.0/865.2 MB\u001B[0m \u001B[31m202.3 MB/s\u001B[0m eta \u001B[36m0:00:03\u001B[0m\n\u001B[2K   \u001B[91m━━━━━━━━━━━━\u001B[0m\u001B[91m╸\u001B[0m\u001B[90m━━━━━━━━━━━━━━━━━━━━━━━━━━\u001B[0m \u001B[32m280.0/865.2 MB\u001B[0m \u001B[31m202.3 MB/s\u001B[0m eta \u001B[36m0:00:03\u001B[0m\n\u001B[2K   \u001B[91m━━━━━━━━━━━━\u001B[0m\u001B[91m╸\u001B[0m\u001B[90m━━━━━━━━━━━━━━━━━━━━━━━━━━\u001B[0m \u001B[32m280.0/865.2 MB\u001B[0m \u001B[31m202.3 MB/s\u001B[0m eta \u001B[36m0:00:03\u001B[0m\n\u001B[2K   \u001B[91m━━━━━━━━━━━━\u001B[0m\u001B[91m╸\u001B[0m\u001B[90m━━━━━━━━━━━━━━━━━━━━━━━━━━\u001B[0m \u001B[32m280.0/865.2 MB\u001B[0m \u001B[31m202.3 MB/s\u001B[0m eta \u001B[36m0:00:03\u001B[0m\n\u001B[2K   \u001B[91m━━━━━━━━━━━━\u001B[0m\u001B[91m╸\u001B[0m\u001B[90m━━━━━━━━━━━━━━━━━━━━━━━━━━\u001B[0m \u001B[32m280.0/865.2 MB\u001B[0m \u001B[31m202.3 MB/s\u001B[0m eta \u001B[36m0:00:03\u001B[0m\n\u001B[2K   \u001B[91m━━━━━━━━━━━━\u001B[0m\u001B[91m╸\u001B[0m\u001B[90m━━━━━━━━━━━━━━━━━━━━━━━━━━\u001B[0m \u001B[32m280.0/865.2 MB\u001B[0m \u001B[31m202.3 MB/s\u001B[0m eta \u001B[36m0:00:03\u001B[0m\n\u001B[2K   \u001B[91m━━━━━━━━━━━━\u001B[0m\u001B[91m╸\u001B[0m\u001B[90m━━━━━━━━━━━━━━━━━━━━━━━━━━\u001B[0m \u001B[32m280.0/865.2 MB\u001B[0m \u001B[31m202.3 MB/s\u001B[0m eta \u001B[36m0:00:03\u001B[0m\n\u001B[2K   \u001B[91m━━━━━━━━━━━━\u001B[0m\u001B[91m╸\u001B[0m\u001B[90m━━━━━━━━━━━━━━━━━━━━━━━━━━\u001B[0m \u001B[32m280.0/865.2 MB\u001B[0m \u001B[31m202.3 MB/s\u001B[0m eta \u001B[36m0:00:03\u001B[0m\n\u001B[2K   \u001B[91m━━━━━━━━━━━━\u001B[0m\u001B[91m╸\u001B[0m\u001B[90m━━━━━━━━━━━━━━━━━━━━━━━━━━━\u001B[0m \u001B[32m280.4/865.2 MB\u001B[0m \u001B[31m7.7 MB/s\u001B[0m eta \u001B[36m0:01:16\u001B[0m\n\u001B[2K   \u001B[91m━━━━━━━━━━━━━\u001B[0m\u001B[90m╺\u001B[0m\u001B[90m━━━━━━━━━━━━━━━━━━━━━━━━━━\u001B[0m \u001B[32m287.3/865.2 MB\u001B[0m \u001B[31m7.7 MB/s\u001B[0m eta \u001B[36m0:01:16\u001B[0m\n\u001B[2K   \u001B[91m━━━━━━━━━━━━━\u001B[0m\u001B[90m╺\u001B[0m\u001B[90m━━━━━━━━━━━━━━━━━━━━━━━━━\u001B[0m \u001B[32m294.1/865.2 MB\u001B[0m \u001B[31m197.0 MB/s\u001B[0m eta \u001B[36m0:00:03\u001B[0m\n\u001B[2K   \u001B[91m━━━━━━━━━━━━━\u001B[0m\u001B[91m╸\u001B[0m\u001B[90m━━━━━━━━━━━━━━━━━━━━━━━━━\u001B[0m \u001B[32m300.9/865.2 MB\u001B[0m \u001B[31m199.5 MB/s\u001B[0m eta \u001B[36m0:00:03\u001B[0m\n\u001B[2K   \u001B[91m━━━━━━━━━━━━━\u001B[0m\u001B[91m╸\u001B[0m\u001B[90m━━━━━━━━━━━━━━━━━━━━━━━━━\u001B[0m \u001B[32m307.8/865.2 MB\u001B[0m \u001B[31m199.5 MB/s\u001B[0m eta \u001B[36m0:00:03\u001B[0m\n\u001B[2K   \u001B[91m━━━━━━━━━━━━━━\u001B[0m\u001B[90m╺\u001B[0m\u001B[90m━━━━━━━━━━━━━━━━━━━━━━━━\u001B[0m \u001B[32m314.8/865.2 MB\u001B[0m \u001B[31m201.6 MB/s\u001B[0m eta \u001B[36m0:00:03\u001B[0m\n\u001B[2K   \u001B[91m━━━━━━━━━━━━━━\u001B[0m\u001B[91m╸\u001B[0m\u001B[90m━━━━━━━━━━━━━━━━━━━━━━━━\u001B[0m \u001B[32m321.7/865.2 MB\u001B[0m \u001B[31m202.2 MB/s\u001B[0m eta \u001B[36m0:00:03\u001B[0m\n\u001B[2K   \u001B[91m━━━━━━━━━━━━━━\u001B[0m\u001B[91m╸\u001B[0m\u001B[90m━━━━━━━━━━━━━━━━━━━━━━━━\u001B[0m \u001B[32m328.3/865.2 MB\u001B[0m \u001B[31m195.6 MB/s\u001B[0m eta \u001B[36m0:00:03\u001B[0m\n\u001B[2K   \u001B[91m━━━━━━━━━━━━━━━\u001B[0m\u001B[90m╺\u001B[0m\u001B[90m━━━━━━━━━━━━━━━━━━━━━━━\u001B[0m \u001B[32m335.3/865.2 MB\u001B[0m \u001B[31m203.8 MB/s\u001B[0m eta \u001B[36m0:00:03\u001B[0m\n\u001B[2K   \u001B[91m━━━━━━━━━━━━━━━\u001B[0m\u001B[90m╺\u001B[0m\u001B[90m━━━━━━━━━━━━━━━━━━━━━━━\u001B[0m \u001B[32m342.3/865.2 MB\u001B[0m \u001B[31m204.9 MB/s\u001B[0m eta \u001B[36m0:00:03\u001B[0m\n\u001B[2K   \u001B[91m━━━━━━━━━━━━━━━\u001B[0m\u001B[91m╸\u001B[0m\u001B[90m━━━━━━━━━━━━━━━━━━━━━━━\u001B[0m \u001B[32m349.2/865.2 MB\u001B[0m \u001B[31m202.3 MB/s\u001B[0m eta \u001B[36m0:00:03\u001B[0m\n\u001B[2K   \u001B[91m━━━━━━━━━━━━━━━━\u001B[0m\u001B[90m╺\u001B[0m\u001B[90m━━━━━━━━━━━━━━━━━━━━━━\u001B[0m \u001B[32m356.1/865.2 MB\u001B[0m \u001B[31m202.0 MB/s\u001B[0m eta \u001B[36m0:00:03\u001B[0m\n\u001B[2K   \u001B[91m━━━━━━━━━━━━━━━━\u001B[0m\u001B[90m╺\u001B[0m\u001B[90m━━━━━━━━━━━━━━━━━━━━━━\u001B[0m \u001B[32m363.2/865.2 MB\u001B[0m \u001B[31m203.6 MB/s\u001B[0m eta \u001B[36m0:00:03\u001B[0m\n\u001B[2K   \u001B[91m━━━━━━━━━━━━━━━━\u001B[0m\u001B[91m╸\u001B[0m\u001B[90m━━━━━━━━━━━━━━━━━━━━━━\u001B[0m \u001B[32m370.0/865.2 MB\u001B[0m \u001B[31m201.0 MB/s\u001B[0m eta \u001B[36m0:00:03\u001B[0m\n\u001B[2K   \u001B[91m━━━━━━━━━━━━━━━━\u001B[0m\u001B[91m╸\u001B[0m\u001B[90m━━━━━━━━━━━━━━━━━━━━━━\u001B[0m \u001B[32m376.7/865.2 MB\u001B[0m \u001B[31m195.1 MB/s\u001B[0m eta \u001B[36m0:00:03\u001B[0m\n\u001B[2K   \u001B[91m━━━━━━━━━━━━━━━━━\u001B[0m\u001B[90m╺\u001B[0m\u001B[90m━━━━━━━━━━━━━━━━━━━━━\u001B[0m \u001B[32m383.8/865.2 MB\u001B[0m \u001B[31m203.1 MB/s\u001B[0m eta \u001B[36m0:00:03\u001B[0m\n\u001B[2K   \u001B[91m━━━━━━━━━━━━━━━━━\u001B[0m\u001B[91m╸\u001B[0m\u001B[90m━━━━━━━━━━━━━━━━━━━━━\u001B[0m \u001B[32m390.8/865.2 MB\u001B[0m \u001B[31m202.3 MB/s\u001B[0m eta \u001B[36m0:00:03\u001B[0m\n\u001B[2K   \u001B[91m━━━━━━━━━━━━━━━━━\u001B[0m\u001B[91m╸\u001B[0m\u001B[90m━━━━━━━━━━━━━━━━━━━━━\u001B[0m \u001B[32m397.7/865.2 MB\u001B[0m \u001B[31m200.3 MB/s\u001B[0m eta \u001B[36m0:00:03\u001B[0m\n\u001B[2K   \u001B[91m━━━━━━━━━━━━━━━━━━\u001B[0m\u001B[90m╺\u001B[0m\u001B[90m━━━━━━━━━━━━━━━━━━━━\u001B[0m \u001B[32m404.6/865.2 MB\u001B[0m \u001B[31m201.2 MB/s\u001B[0m eta \u001B[36m0:00:03\u001B[0m\n\u001B[2K   \u001B[91m━━━━━━━━━━━━━━━━━━\u001B[0m\u001B[91m╸\u001B[0m\u001B[90m━━━━━━━━━━━━━━━━━━━━\u001B[0m \u001B[32m411.3/865.2 MB\u001B[0m \u001B[31m200.8 MB/s\u001B[0m eta \u001B[36m0:00:03\u001B[0m\n\u001B[2K   \u001B[91m━━━━━━━━━━━━━━━━━━\u001B[0m\u001B[91m╸\u001B[0m\u001B[90m━━━━━━━━━━━━━━━━━━━━\u001B[0m \u001B[32m418.3/865.2 MB\u001B[0m \u001B[31m197.1 MB/s\u001B[0m eta \u001B[36m0:00:03\u001B[0m\n\u001B[2K   \u001B[91m━━━━━━━━━━━━━━━━━━━\u001B[0m\u001B[90m╺\u001B[0m\u001B[90m━━━━━━━━━━━━━━━━━━━\u001B[0m \u001B[32m425.3/865.2 MB\u001B[0m \u001B[31m204.6 MB/s\u001B[0m eta \u001B[36m0:00:03\u001B[0m\n\u001B[2K   \u001B[91m━━━━━━━━━━━━━━━━━━━\u001B[0m\u001B[90m╺\u001B[0m\u001B[90m━━━━━━━━━━━━━━━━━━━\u001B[0m \u001B[32m432.4/865.2 MB\u001B[0m \u001B[3\n\n*** WARNING: max output size exceeded, skipping output. ***\n\n[0m \u001B[31m200.4 MB/s\u001B[0m eta \u001B[36m0:00:01\u001B[0m\n\u001B[2K   \u001B[91m━━━━━━━━━━━━━━━━━━━━━━━━━━━━━━━━━━━━━━\u001B[0m\u001B[91m╸\u001B[0m \u001B[32m201.3/201.3 MB\u001B[0m \u001B[31m200.4 MB/s\u001B[0m eta \u001B[36m0:00:01\u001B[0m\n\u001B[2K   \u001B[91m━━━━━━━━━━━━━━━━━━━━━━━━━━━━━━━━━━━━━━\u001B[0m\u001B[91m╸\u001B[0m \u001B[32m201.3/201.3 MB\u001B[0m \u001B[31m200.4 MB/s\u001B[0m eta \u001B[36m0:00:01\u001B[0m\n\u001B[2K   \u001B[91m━━━━━━━━━━━━━━━━━━━━━━━━━━━━━━━━━━━━━━\u001B[0m\u001B[91m╸\u001B[0m \u001B[32m201.3/201.3 MB\u001B[0m \u001B[31m200.4 MB/s\u001B[0m eta \u001B[36m0:00:01\u001B[0m\n\u001B[2K   \u001B[91m━━━━━━━━━━━━━━━━━━━━━━━━━━━━━━━━━━━━━━\u001B[0m\u001B[91m╸\u001B[0m \u001B[32m201.3/201.3 MB\u001B[0m \u001B[31m200.4 MB/s\u001B[0m eta \u001B[36m0:00:01\u001B[0m\n\u001B[2K   \u001B[91m━━━━━━━━━━━━━━━━━━━━━━━━━━━━━━━━━━━━━━\u001B[0m\u001B[91m╸\u001B[0m \u001B[32m201.3/201.3 MB\u001B[0m \u001B[31m200.4 MB/s\u001B[0m eta \u001B[36m0:00:01\u001B[0m\n\u001B[2K   \u001B[91m━━━━━━━━━━━━━━━━━━━━━━━━━━━━━━━━━━━━━━\u001B[0m\u001B[91m╸\u001B[0m \u001B[32m201.3/201.3 MB\u001B[0m \u001B[31m200.4 MB/s\u001B[0m eta \u001B[36m0:00:01\u001B[0m\n\u001B[2K   \u001B[91m━━━━━━━━━━━━━━━━━━━━━━━━━━━━━━━━━━━━━━\u001B[0m\u001B[91m╸\u001B[0m \u001B[32m201.3/201.3 MB\u001B[0m \u001B[31m200.4 MB/s\u001B[0m eta \u001B[36m0:00:01\u001B[0m\n\u001B[2K   \u001B[91m━━━━━━━━━━━━━━━━━━━━━━━━━━━━━━━━━━━━━━\u001B[0m\u001B[91m╸\u001B[0m \u001B[32m201.3/201.3 MB\u001B[0m \u001B[31m200.4 MB/s\u001B[0m eta \u001B[36m0:00:01\u001B[0m\n\u001B[2K   \u001B[91m━━━━━━━━━━━━━━━━━━━━━━━━━━━━━━━━━━━━━━\u001B[0m\u001B[91m╸\u001B[0m \u001B[32m201.3/201.3 MB\u001B[0m \u001B[31m200.4 MB/s\u001B[0m eta \u001B[36m0:00:01\u001B[0m\n\u001B[2K   \u001B[91m━━━━━━━━━━━━━━━━━━━━━━━━━━━━━━━━━━━━━━\u001B[0m\u001B[91m╸\u001B[0m \u001B[32m201.3/201.3 MB\u001B[0m \u001B[31m200.4 MB/s\u001B[0m eta \u001B[36m0:00:01\u001B[0m\n\u001B[2K   \u001B[91m━━━━━━━━━━━━━━━━━━━━━━━━━━━━━━━━━━━━━━\u001B[0m\u001B[91m╸\u001B[0m \u001B[32m201.3/201.3 MB\u001B[0m \u001B[31m200.4 MB/s\u001B[0m eta \u001B[36m0:00:01\u001B[0m\n\u001B[2K   \u001B[91m━━━━━━━━━━━━━━━━━━━━━━━━━━━━━━━━━━━━━━\u001B[0m\u001B[91m╸\u001B[0m \u001B[32m201.3/201.3 MB\u001B[0m \u001B[31m200.4 MB/s\u001B[0m eta \u001B[36m0:00:01\u001B[0m\n\u001B[2K   \u001B[91m━━━━━━━━━━━━━━━━━━━━━━━━━━━━━━━━━━━━━━\u001B[0m\u001B[91m╸\u001B[0m \u001B[32m201.3/201.3 MB\u001B[0m \u001B[31m200.4 MB/s\u001B[0m eta \u001B[36m0:00:01\u001B[0m\n\u001B[2K   \u001B[91m━━━━━━━━━━━━━━━━━━━━━━━━━━━━━━━━━━━━━━\u001B[0m\u001B[91m╸\u001B[0m \u001B[32m201.3/201.3 MB\u001B[0m \u001B[31m200.4 MB/s\u001B[0m eta \u001B[36m0:00:01\u001B[0m\n\u001B[2K   \u001B[91m━━━━━━━━━━━━━━━━━━━━━━━━━━━━━━━━━━━━━━\u001B[0m\u001B[91m╸\u001B[0m \u001B[32m201.3/201.3 MB\u001B[0m \u001B[31m200.4 MB/s\u001B[0m eta \u001B[36m0:00:01\u001B[0m\n\u001B[2K   \u001B[91m━━━━━━━━━━━━━━━━━━━━━━━━━━━━━━━━━━━━━━\u001B[0m\u001B[91m╸\u001B[0m \u001B[32m201.3/201.3 MB\u001B[0m \u001B[31m200.4 MB/s\u001B[0m eta \u001B[36m0:00:01\u001B[0m\n\u001B[2K   \u001B[91m━━━━━━━━━━━━━━━━━━━━━━━━━━━━━━━━━━━━━━\u001B[0m\u001B[91m╸\u001B[0m \u001B[32m201.3/201.3 MB\u001B[0m \u001B[31m200.4 MB/s\u001B[0m eta \u001B[36m0:00:01\u001B[0m\n\u001B[2K   \u001B[91m━━━━━━━━━━━━━━━━━━━━━━━━━━━━━━━━━━━━━━\u001B[0m\u001B[91m╸\u001B[0m \u001B[32m201.3/201.3 MB\u001B[0m \u001B[31m200.4 MB/s\u001B[0m eta \u001B[36m0:00:01\u001B[0m\n\u001B[2K   \u001B[91m━━━━━━━━━━━━━━━━━━━━━━━━━━━━━━━━━━━━━━\u001B[0m\u001B[91m╸\u001B[0m \u001B[32m201.3/201.3 MB\u001B[0m \u001B[31m200.4 MB/s\u001B[0m eta \u001B[36m0:00:01\u001B[0m\n\u001B[2K   \u001B[91m━━━━━━━━━━━━━━━━━━━━━━━━━━━━━━━━━━━━━━\u001B[0m\u001B[91m╸\u001B[0m \u001B[32m201.3/201.3 MB\u001B[0m \u001B[31m200.4 MB/s\u001B[0m eta \u001B[36m0:00:01\u001B[0m\n\u001B[2K   \u001B[91m━━━━━━━━━━━━━━━━━━━━━━━━━━━━━━━━━━━━━━\u001B[0m\u001B[91m╸\u001B[0m \u001B[32m201.3/201.3 MB\u001B[0m \u001B[31m200.4 MB/s\u001B[0m eta \u001B[36m0:00:01\u001B[0m\n\u001B[2K   \u001B[91m━━━━━━━━━━━━━━━━━━━━━━━━━━━━━━━━━━━━━━\u001B[0m\u001B[91m╸\u001B[0m \u001B[32m201.3/201.3 MB\u001B[0m \u001B[31m200.4 MB/s\u001B[0m eta \u001B[36m0:00:01\u001B[0m\n\u001B[2K   \u001B[91m━━━━━━━━━━━━━━━━━━━━━━━━━━━━━━━━━━━━━━\u001B[0m\u001B[91m╸\u001B[0m \u001B[32m201.3/201.3 MB\u001B[0m \u001B[31m200.4 MB/s\u001B[0m eta \u001B[36m0:00:01\u001B[0m\n\u001B[2K   \u001B[91m━━━━━━━━━━━━━━━━━━━━━━━━━━━━━━━━━━━━━━\u001B[0m\u001B[91m╸\u001B[0m \u001B[32m201.3/201.3 MB\u001B[0m \u001B[31m200.4 MB/s\u001B[0m eta \u001B[36m0:00:01\u001B[0m\n\u001B[2K   \u001B[91m━━━━━━━━━━━━━━━━━━━━━━━━━━━━━━━━━━━━━━\u001B[0m\u001B[91m╸\u001B[0m \u001B[32m201.3/201.3 MB\u001B[0m \u001B[31m200.4 MB/s\u001B[0m eta \u001B[36m0:00:01\u001B[0m\n\u001B[2K   \u001B[91m━━━━━━━━━━━━━━━━━━━━━━━━━━━━━━━━━━━━━━\u001B[0m\u001B[91m╸\u001B[0m \u001B[32m201.3/201.3 MB\u001B[0m \u001B[31m200.4 MB/s\u001B[0m eta \u001B[36m0:00:01\u001B[0m\n\u001B[2K   \u001B[91m━━━━━━━━━━━━━━━━━━━━━━━━━━━━━━━━━━━━━━\u001B[0m\u001B[91m╸\u001B[0m \u001B[32m201.3/201.3 MB\u001B[0m \u001B[31m200.4 MB/s\u001B[0m eta \u001B[36m0:00:01\u001B[0m\n\u001B[2K   \u001B[91m━━━━━━━━━━━━━━━━━━━━━━━━━━━━━━━━━━━━━━\u001B[0m\u001B[91m╸\u001B[0m \u001B[32m201.3/201.3 MB\u001B[0m \u001B[31m200.4 MB/s\u001B[0m eta \u001B[36m0:00:01\u001B[0m\n\u001B[2K   \u001B[91m━━━━━━━━━━━━━━━━━━━━━━━━━━━━━━━━━━━━━━\u001B[0m\u001B[91m╸\u001B[0m \u001B[32m201.3/201.3 MB\u001B[0m \u001B[31m200.4 MB/s\u001B[0m eta \u001B[36m0:00:01\u001B[0m\n\u001B[2K   \u001B[91m━━━━━━━━━━━━━━━━━━━━━━━━━━━━━━━━━━━━━━\u001B[0m\u001B[91m╸\u001B[0m \u001B[32m201.3/201.3 MB\u001B[0m \u001B[31m200.4 MB/s\u001B[0m eta \u001B[36m0:00:01\u001B[0m\n\u001B[2K   \u001B[91m━━━━━━━━━━━━━━━━━━━━━━━━━━━━━━━━━━━━━━\u001B[0m\u001B[91m╸\u001B[0m \u001B[32m201.3/201.3 MB\u001B[0m \u001B[31m200.4 MB/s\u001B[0m eta \u001B[36m0:00:01\u001B[0m\n\u001B[2K   \u001B[91m━━━━━━━━━━━━━━━━━━━━━━━━━━━━━━━━━━━━━━\u001B[0m\u001B[91m╸\u001B[0m \u001B[32m201.3/201.3 MB\u001B[0m \u001B[31m200.4 MB/s\u001B[0m eta \u001B[36m0:00:01\u001B[0m\n\u001B[2K   \u001B[91m━━━━━━━━━━━━━━━━━━━━━━━━━━━━━━━━━━━━━━\u001B[0m\u001B[91m╸\u001B[0m \u001B[32m201.3/201.3 MB\u001B[0m \u001B[31m200.4 MB/s\u001B[0m eta \u001B[36m0:00:01\u001B[0m\n\u001B[2K   \u001B[91m━━━━━━━━━━━━━━━━━━━━━━━━━━━━━━━━━━━━━━\u001B[0m\u001B[91m╸\u001B[0m \u001B[32m201.3/201.3 MB\u001B[0m \u001B[31m200.4 MB/s\u001B[0m eta \u001B[36m0:00:01\u001B[0m\n\u001B[2K   \u001B[91m━━━━━━━━━━━━━━━━━━━━━━━━━━━━━━━━━━━━━━\u001B[0m\u001B[91m╸\u001B[0m \u001B[32m201.3/201.3 MB\u001B[0m \u001B[31m200.4 MB/s\u001B[0m eta \u001B[36m0:00:01\u001B[0m\n\u001B[2K   \u001B[91m━━━━━━━━━━━━━━━━━━━━━━━━━━━━━━━━━━━━━━\u001B[0m\u001B[91m╸\u001B[0m \u001B[32m201.3/201.3 MB\u001B[0m \u001B[31m200.4 MB/s\u001B[0m eta \u001B[36m0:00:01\u001B[0m\n\u001B[2K   \u001B[91m━━━━━━━━━━━━━━━━━━━━━━━━━━━━━━━━━━━━━━\u001B[0m\u001B[91m╸\u001B[0m \u001B[32m201.3/201.3 MB\u001B[0m \u001B[31m200.4 MB/s\u001B[0m eta \u001B[36m0:00:01\u001B[0m\n\u001B[2K   \u001B[91m━━━━━━━━━━━━━━━━━━━━━━━━━━━━━━━━━━━━━━\u001B[0m\u001B[91m╸\u001B[0m \u001B[32m201.3/201.3 MB\u001B[0m \u001B[31m200.4 MB/s\u001B[0m eta \u001B[36m0:00:01\u001B[0m\n\u001B[2K   \u001B[91m━━━━━━━━━━━━━━━━━━━━━━━━━━━━━━━━━━━━━━\u001B[0m\u001B[91m╸\u001B[0m \u001B[32m201.3/201.3 MB\u001B[0m \u001B[31m200.4 MB/s\u001B[0m eta \u001B[36m0:00:01\u001B[0m\n\u001B[2K   \u001B[91m━━━━━━━━━━━━━━━━━━━━━━━━━━━━━━━━━━━━━━\u001B[0m\u001B[91m╸\u001B[0m \u001B[32m201.3/201.3 MB\u001B[0m \u001B[31m200.4 MB/s\u001B[0m eta \u001B[36m0:00:01\u001B[0m\n\u001B[2K   \u001B[91m━━━━━━━━━━━━━━━━━━━━━━━━━━━━━━━━━━━━━━\u001B[0m\u001B[91m╸\u001B[0m \u001B[32m201.3/201.3 MB\u001B[0m \u001B[31m200.4 MB/s\u001B[0m eta \u001B[36m0:00:01\u001B[0m\n\u001B[2K   \u001B[91m━━━━━━━━━━━━━━━━━━━━━━━━━━━━━━━━━━━━━━\u001B[0m\u001B[91m╸\u001B[0m \u001B[32m201.3/201.3 MB\u001B[0m \u001B[31m200.4 MB/s\u001B[0m eta \u001B[36m0:00:01\u001B[0m\n\u001B[2K   \u001B[91m━━━━━━━━━━━━━━━━━━━━━━━━━━━━━━━━━━━━━━\u001B[0m\u001B[91m╸\u001B[0m \u001B[32m201.3/201.3 MB\u001B[0m \u001B[31m200.4 MB/s\u001B[0m eta \u001B[36m0:00:01\u001B[0m\n\u001B[2K   \u001B[91m━━━━━━━━━━━━━━━━━━━━━━━━━━━━━━━━━━━━━━\u001B[0m\u001B[91m╸\u001B[0m \u001B[32m201.3/201.3 MB\u001B[0m \u001B[31m200.4 MB/s\u001B[0m eta \u001B[36m0:00:01\u001B[0m\n\u001B[2K   \u001B[91m━━━━━━━━━━━━━━━━━━━━━━━━━━━━━━━━━━━━━━\u001B[0m\u001B[91m╸\u001B[0m \u001B[32m201.3/201.3 MB\u001B[0m \u001B[31m200.4 MB/s\u001B[0m eta \u001B[36m0:00:01\u001B[0m\n\u001B[2K   \u001B[91m━━━━━━━━━━━━━━━━━━━━━━━━━━━━━━━━━━━━━━\u001B[0m\u001B[91m╸\u001B[0m \u001B[32m201.3/201.3 MB\u001B[0m \u001B[31m200.4 MB/s\u001B[0m eta \u001B[36m0:00:01\u001B[0m\n\u001B[2K   \u001B[91m━━━━━━━━━━━━━━━━━━━━━━━━━━━━━━━━━━━━━━\u001B[0m\u001B[91m╸\u001B[0m \u001B[32m201.3/201.3 MB\u001B[0m \u001B[31m200.4 MB/s\u001B[0m eta \u001B[36m0:00:01\u001B[0m\n\u001B[2K   \u001B[91m━━━━━━━━━━━━━━━━━━━━━━━━━━━━━━━━━━━━━━\u001B[0m\u001B[91m╸\u001B[0m \u001B[32m201.3/201.3 MB\u001B[0m \u001B[31m200.4 MB/s\u001B[0m eta \u001B[36m0:00:01\u001B[0m\n\u001B[2K   \u001B[91m━━━━━━━━━━━━━━━━━━━━━━━━━━━━━━━━━━━━━━\u001B[0m\u001B[91m╸\u001B[0m \u001B[32m201.3/201.3 MB\u001B[0m \u001B[31m200.4 MB/s\u001B[0m eta \u001B[36m0:00:01\u001B[0m\n\u001B[2K   \u001B[91m━━━━━━━━━━━━━━━━━━━━━━━━━━━━━━━━━━━━━━\u001B[0m\u001B[91m╸\u001B[0m \u001B[32m201.3/201.3 MB\u001B[0m \u001B[31m200.4 MB/s\u001B[0m eta \u001B[36m0:00:01\u001B[0m\n\u001B[2K   \u001B[91m━━━━━━━━━━━━━━━━━━━━━━━━━━━━━━━━━━━━━━\u001B[0m\u001B[91m╸\u001B[0m \u001B[32m201.3/201.3 MB\u001B[0m \u001B[31m200.4 MB/s\u001B[0m eta \u001B[36m0:00:01\u001B[0m\n\u001B[2K   \u001B[91m━━━━━━━━━━━━━━━━━━━━━━━━━━━━━━━━━━━━━━\u001B[0m\u001B[91m╸\u001B[0m \u001B[32m201.3/201.3 MB\u001B[0m \u001B[31m200.4 MB/s\u001B[0m eta \u001B[36m0:00:01\u001B[0m\n\u001B[2K   \u001B[91m━━━━━━━━━━━━━━━━━━━━━━━━━━━━━━━━━━━━━━\u001B[0m\u001B[91m╸\u001B[0m \u001B[32m201.3/201.3 MB\u001B[0m \u001B[31m200.4 MB/s\u001B[0m eta \u001B[36m0:00:01\u001B[0m\n\u001B[2K   \u001B[91m━━━━━━━━━━━━━━━━━━━━━━━━━━━━━━━━━━━━━━\u001B[0m\u001B[91m╸\u001B[0m \u001B[32m201.3/201.3 MB\u001B[0m \u001B[31m200.4 MB/s\u001B[0m eta \u001B[36m0:00:01\u001B[0m\n\u001B[2K   \u001B[91m━━━━━━━━━━━━━━━━━━━━━━━━━━━━━━━━━━━━━━\u001B[0m\u001B[91m╸\u001B[0m \u001B[32m201.3/201.3 MB\u001B[0m \u001B[31m200.4 MB/s\u001B[0m eta \u001B[36m0:00:01\u001B[0m\n\u001B[2K   \u001B[91m━━━━━━━━━━━━━━━━━━━━━━━━━━━━━━━━━━━━━━\u001B[0m\u001B[91m╸\u001B[0m \u001B[32m201.3/201.3 MB\u001B[0m \u001B[31m200.4 MB/s\u001B[0m eta \u001B[36m0:00:01\u001B[0m\n\u001B[2K   \u001B[91m━━━━━━━━━━━━━━━━━━━━━━━━━━━━━━━━━━━━━━\u001B[0m\u001B[91m╸\u001B[0m \u001B[32m201.3/201.3 MB\u001B[0m \u001B[31m200.4 MB/s\u001B[0m eta \u001B[36m0:00:01\u001B[0m\n\u001B[2K   \u001B[91m━━━━━━━━━━━━━━━━━━━━━━━━━━━━━━━━━━━━━━\u001B[0m\u001B[91m╸\u001B[0m \u001B[32m201.3/201.3 MB\u001B[0m \u001B[31m200.4 MB/s\u001B[0m eta \u001B[36m0:00:01\u001B[0m\n\u001B[2K   \u001B[91m━━━━━━━━━━━━━━━━━━━━━━━━━━━━━━━━━━━━━━\u001B[0m\u001B[91m╸\u001B[0m \u001B[32m201.3/201.3 MB\u001B[0m \u001B[31m200.4 MB/s\u001B[0m eta \u001B[36m0:00:01\u001B[0m\n\u001B[2K   \u001B[91m━━━━━━━━━━━━━━━━━━━━━━━━━━━━━━━━━━━━━━\u001B[0m\u001B[91m╸\u001B[0m \u001B[32m201.3/201.3 MB\u001B[0m \u001B[31m200.4 MB/s\u001B[0m eta \u001B[36m0:00:01\u001B[0m\n\u001B[2K   \u001B[91m━━━━━━━━━━━━━━━━━━━━━━━━━━━━━━━━━━━━━━\u001B[0m\u001B[91m╸\u001B[0m \u001B[32m201.3/201.3 MB\u001B[0m \u001B[31m200.4 MB/s\u001B[0m eta \u001B[36m0:00:01\u001B[0m\n\u001B[2K   \u001B[91m━━━━━━━━━━━━━━━━━━━━━━━━━━━━━━━━━━━━━━\u001B[0m\u001B[91m╸\u001B[0m \u001B[32m201.3/201.3 MB\u001B[0m \u001B[31m200.4 MB/s\u001B[0m eta \u001B[36m0:00:01\u001B[0m\n\u001B[2K   \u001B[91m━━━━━━━━━━━━━━━━━━━━━━━━━━━━━━━━━━━━━━\u001B[0m\u001B[91m╸\u001B[0m \u001B[32m201.3/201.3 MB\u001B[0m \u001B[31m200.4 MB/s\u001B[0m eta \u001B[36m0:00:01\u001B[0m\n\u001B[2K   \u001B[91m━━━━━━━━━━━━━━━━━━━━━━━━━━━━━━━━━━━━━━\u001B[0m\u001B[91m╸\u001B[0m \u001B[32m201.3/201.3 MB\u001B[0m \u001B[31m200.4 MB/s\u001B[0m eta \u001B[36m0:00:01\u001B[0m\n\u001B[2K   \u001B[91m━━━━━━━━━━━━━━━━━━━━━━━━━━━━━━━━━━━━━━\u001B[0m\u001B[91m╸\u001B[0m \u001B[32m201.3/201.3 MB\u001B[0m \u001B[31m200.4 MB/s\u001B[0m eta \u001B[36m0:00:01\u001B[0m\n\u001B[2K   \u001B[91m━━━━━━━━━━━━━━━━━━━━━━━━━━━━━━━━━━━━━━\u001B[0m\u001B[91m╸\u001B[0m \u001B[32m201.3/201.3 MB\u001B[0m \u001B[31m200.4 MB/s\u001B[0m eta \u001B[36m0:00:01\u001B[0m\n\u001B[2K   \u001B[91m━━━━━━━━━━━━━━━━━━━━━━━━━━━━━━━━━━━━━━\u001B[0m\u001B[91m╸\u001B[0m \u001B[32m201.3/201.3 MB\u001B[0m \u001B[31m200.4 MB/s\u001B[0m eta \u001B[36m0:00:01\u001B[0m\n\u001B[2K   \u001B[90m━━━━━━━━━━━━━━━━━━━━━━━━━━━━━━━━━━━━━━━━\u001B[0m \u001B[32m201.3/201.3 MB\u001B[0m \u001B[31m2.4 MB/s\u001B[0m eta \u001B[36m0:00:00\u001B[0m\n\u001B[?25hDownloading nvidia_nvjitlink_cu12-12.6.85-py3-none-manylinux2010_x86_64.manylinux_2_12_x86_64.whl (19.7 MB)\n\u001B[?25l   \u001B[90m━━━━━━━━━━━━━━━━━━━━━━━━━━━━━━━━━━━━━━━━\u001B[0m \u001B[32m0.0/19.7 MB\u001B[0m \u001B[31m?\u001B[0m eta \u001B[36m-:--:--\u001B[0m\n\u001B[2K   \u001B[91m━━━━━━━━━━━━━━\u001B[0m\u001B[91m╸\u001B[0m\u001B[90m━━━━━━━━━━━━━━━━━━━━━━━━━\u001B[0m \u001B[32m7.2/19.7 MB\u001B[0m \u001B[31m215.1 MB/s\u001B[0m eta \u001B[36m0:00:01\u001B[0m\n\u001B[2K   \u001B[91m━━━━━━━━━━━━━━━━━━━━━━━━━\u001B[0m\u001B[91m╸\u001B[0m\u001B[90m━━━━━━━━━━━━━━\u001B[0m \u001B[32m12.6/19.7 MB\u001B[0m \u001B[31m169.5 MB/s\u001B[0m eta \u001B[36m0:00:01\u001B[0m\n\u001B[2K   \u001B[91m━━━━━━━━━━━━━━━━━━━━━━━━━━━━━━━━━━━━━━━\u001B[0m\u001B[90m╺\u001B[0m \u001B[32m19.5/19.7 MB\u001B[0m \u001B[31m175.5 MB/s\u001B[0m eta \u001B[36m0:00:01\u001B[0m\n\u001B[2K   \u001B[91m━━━━━━━━━━━━━━━━━━━━━━━━━━━━━━━━━━━━━━━\u001B[0m\u001B[91m╸\u001B[0m \u001B[32m19.7/19.7 MB\u001B[0m \u001B[31m172.1 MB/s\u001B[0m eta \u001B[36m0:00:01\u001B[0m\n\u001B[2K   \u001B[91m━━━━━━━━━━━━━━━━━━━━━━━━━━━━━━━━━━━━━━━\u001B[0m\u001B[91m╸\u001B[0m \u001B[32m19.7/19.7 MB\u001B[0m \u001B[31m172.1 MB/s\u001B[0m eta \u001B[36m0:00:01\u001B[0m\n\u001B[2K   \u001B[91m━━━━━━━━━━━━━━━━━━━━━━━━━━━━━━━━━━━━━━━\u001B[0m\u001B[91m╸\u001B[0m \u001B[32m19.7/19.7 MB\u001B[0m \u001B[31m172.1 MB/s\u001B[0m eta \u001B[36m0:00:01\u001B[0m\n\u001B[2K   \u001B[91m━━━━━━━━━━━━━━━━━━━━━━━━━━━━━━━━━━━━━━━\u001B[0m\u001B[91m╸\u001B[0m \u001B[32m19.7/19.7 MB\u001B[0m \u001B[31m172.1 MB/s\u001B[0m eta \u001B[36m0:00:01\u001B[0m\n\u001B[2K   \u001B[91m━━━━━━━━━━━━━━━━━━━━━━━━━━━━━━━━━━━━━━━\u001B[0m\u001B[91m╸\u001B[0m \u001B[32m19.7/19.7 MB\u001B[0m \u001B[31m172.1 MB/s\u001B[0m eta \u001B[36m0:00:01\u001B[0m\n\u001B[2K   \u001B[91m━━━━━━━━━━━━━━━━━━━━━━━━━━━━━━━━━━━━━━━\u001B[0m\u001B[91m╸\u001B[0m \u001B[32m19.7/19.7 MB\u001B[0m \u001B[31m172.1 MB/s\u001B[0m eta \u001B[36m0:00:01\u001B[0m\n\u001B[2K   \u001B[91m━━━━━━━━━━━━━━━━━━━━━━━━━━━━━━━━━━━━━━━\u001B[0m\u001B[91m╸\u001B[0m \u001B[32m19.7/19.7 MB\u001B[0m \u001B[31m172.1 MB/s\u001B[0m eta \u001B[36m0:00:01\u001B[0m\n\u001B[2K   \u001B[91m━━━━━━━━━━━━━━━━━━━━━━━━━━━━━━━━━━━━━━━\u001B[0m\u001B[91m╸\u001B[0m \u001B[32m19.7/19.7 MB\u001B[0m \u001B[31m172.1 MB/s\u001B[0m eta \u001B[36m0:00:01\u001B[0m\n\u001B[2K   \u001B[91m━━━━━━━━━━━━━━━━━━━━━━━━━━━━━━━━━━━━━━━\u001B[0m\u001B[91m╸\u001B[0m \u001B[32m19.7/19.7 MB\u001B[0m \u001B[31m172.1 MB/s\u001B[0m eta \u001B[36m0:00:01\u001B[0m\n\u001B[2K   \u001B[91m━━━━━━━━━━━━━━━━━━━━━━━━━━━━━━━━━━━━━━━\u001B[0m\u001B[91m╸\u001B[0m \u001B[32m19.7/19.7 MB\u001B[0m \u001B[31m172.1 MB/s\u001B[0m eta \u001B[36m0:00:01\u001B[0m\n\u001B[2K   \u001B[91m━━━━━━━━━━━━━━━━━━━━━━━━━━━━━━━━━━━━━━━\u001B[0m\u001B[91m╸\u001B[0m \u001B[32m19.7/19.7 MB\u001B[0m \u001B[31m172.1 MB/s\u001B[0m eta \u001B[36m0:00:01\u001B[0m\n\u001B[2K   \u001B[91m━━━━━━━━━━━━━━━━━━━━━━━━━━━━━━━━━━━━━━━\u001B[0m\u001B[91m╸\u001B[0m \u001B[32m19.7/19.7 MB\u001B[0m \u001B[31m172.1 MB/s\u001B[0m eta \u001B[36m0:00:01\u001B[0m\n\u001B[2K   \u001B[91m━━━━━━━━━━━━━━━━━━━━━━━━━━━━━━━━━━━━━━━\u001B[0m\u001B[91m╸\u001B[0m \u001B[32m19.7/19.7 MB\u001B[0m \u001B[31m172.1 MB/s\u001B[0m eta \u001B[36m0:00:01\u001B[0m\n\u001B[2K   \u001B[91m━━━━━━━━━━━━━━━━━━━━━━━━━━━━━━━━━━━━━━━\u001B[0m\u001B[91m╸\u001B[0m \u001B[32m19.7/19.7 MB\u001B[0m \u001B[31m172.1 MB/s\u001B[0m eta \u001B[36m0:00:01\u001B[0m\n\u001B[2K   \u001B[91m━━━━━━━━━━━━━━━━━━━━━━━━━━━━━━━━━━━━━━━\u001B[0m\u001B[91m╸\u001B[0m \u001B[32m19.7/19.7 MB\u001B[0m \u001B[31m172.1 MB/s\u001B[0m eta \u001B[36m0:00:01\u001B[0m\n\u001B[2K   \u001B[91m━━━━━━━━━━━━━━━━━━━━━━━━━━━━━━━━━━━━━━━\u001B[0m\u001B[91m╸\u001B[0m \u001B[32m19.7/19.7 MB\u001B[0m \u001B[31m172.1 MB/s\u001B[0m eta \u001B[36m0:00:01\u001B[0m\n\u001B[2K   \u001B[91m━━━━━━━━━━━━━━━━━━━━━━━━━━━━━━━━━━━━━━━\u001B[0m\u001B[91m╸\u001B[0m \u001B[32m19.7/19.7 MB\u001B[0m \u001B[31m172.1 MB/s\u001B[0m eta \u001B[36m0:00:01\u001B[0m\n\u001B[2K   \u001B[91m━━━━━━━━━━━━━━━━━━━━━━━━━━━━━━━━━━━━━━━\u001B[0m\u001B[91m╸\u001B[0m \u001B[32m19.7/19.7 MB\u001B[0m \u001B[31m172.1 MB/s\u001B[0m eta \u001B[36m0:00:01\u001B[0m\n\u001B[2K   \u001B[90m━━━━━━━━━━━━━━━━━━━━━━━━━━━━━━━━━━━━━━━━\u001B[0m \u001B[32m19.7/19.7 MB\u001B[0m \u001B[31m14.8 MB/s\u001B[0m eta \u001B[36m0:00:00\u001B[0m\n\u001B[?25hDownloading nvidia_nvtx_cu12-12.6.77-py3-none-manylinux2014_x86_64.manylinux_2_17_x86_64.whl (89 kB)\n\u001B[?25l   \u001B[90m━━━━━━━━━━━━━━━━━━━━━━━━━━━━━━━━━━━━━━━━\u001B[0m \u001B[32m0.0/89.3 kB\u001B[0m \u001B[31m?\u001B[0m eta \u001B[36m-:--:--\u001B[0m\n\u001B[2K   \u001B[90m━━━━━━━━━━━━━━━━━━━━━━━━━━━━━━━━━━━━━━━━\u001B[0m \u001B[32m89.3/89.3 kB\u001B[0m \u001B[31m16.2 MB/s\u001B[0m eta \u001B[36m0:00:00\u001B[0m\n\u001B[?25hDownloading triton-3.3.0-cp311-cp311-manylinux_2_27_x86_64.manylinux_2_28_x86_64.whl (156.5 MB)\n\u001B[?25l   \u001B[90m━━━━━━━━━━━━━━━━━━━━━━━━━━━━━━━━━━━━━━━━\u001B[0m \u001B[32m0.0/156.5 MB\u001B[0m \u001B[31m?\u001B[0m eta \u001B[36m-:--:--\u001B[0m\n\u001B[2K   \u001B[91m━\u001B[0m\u001B[91m╸\u001B[0m\u001B[90m━━━━━━━━━━━━━━━━━━━━━━━━━━━━━━━━━━━━━━\u001B[0m \u001B[32m6.4/156.5 MB\u001B[0m \u001B[31m193.4 MB/s\u001B[0m eta \u001B[36m0:00:01\u001B[0m\n\u001B[2K   \u001B[91m━━━\u001B[0m\u001B[90m╺\u001B[0m\u001B[90m━━━━━━━━━━━━━━━━━━━━━━━━━━━━━━━━━━━━\u001B[0m \u001B[32m13.6/156.5 MB\u001B[0m \u001B[31m198.2 MB/s\u001B[0m eta \u001B[36m0:00:01\u001B[0m\n\u001B[2K   \u001B[91m━━━━━\u001B[0m\u001B[90m╺\u001B[0m\u001B[90m━━━━━━━━━━━━━━━━━━━━━━━━━━━━━━━━━━\u001B[0m \u001B[32m20.5/156.5 MB\u001B[0m \u001B[31m201.8 MB/s\u001B[0m eta \u001B[36m0:00:01\u001B[0m\n\u001B[2K   \u001B[91m━━━━━━\u001B[0m\u001B[91m╸\u001B[0m\u001B[90m━━━━━━━━━━━━━━━━━━━━━━━━━━━━━━━━━\u001B[0m \u001B[32m27.3/156.5 MB\u001B[0m \u001B[31m199.0 MB/s\u001B[0m eta \u001B[36m0:00:01\u001B[0m\n\u001B[2K   \u001B[91m━━━━━━━━\u001B[0m\u001B[91m╸\u001B[0m\u001B[90m━━━━━━━━━━━━━━━━━━━━━━━━━━━━━━━\u001B[0m \u001B[32m34.3/156.5 MB\u001B[0m \u001B[31m202.0 MB/s\u001B[0m eta \u001B[36m0:00:01\u001B[0m\n\u001B[2K   \u001B[91m━━━━━━━━━━\u001B[0m\u001B[91m╸\u001B[0m\u001B[90m━━━━━━━━━━━━━━━━━━━━━━━━━━━━━\u001B[0m \u001B[32m41.2/156.5 MB\u001B[0m \u001B[31m203.5 MB/s\u001B[0m eta \u001B[36m0:00:01\u001B[0m\n\u001B[2K   \u001B[91m━━━━━━━━━━━━\u001B[0m\u001B[90m╺\u001B[0m\u001B[90m━━━━━━━━━━━━━━━━━━━━━━━━━━━\u001B[0m \u001B[32m48.2/156.5 MB\u001B[0m \u001B[31m202.8 MB/s\u001B[0m eta \u001B[36m0:00:01\u001B[0m\n\u001B[2K   \u001B[91m━━━━━━━━━━━━\u001B[0m\u001B[91m╸\u001B[0m\u001B[90m━━━━━━━━━━━━━━━━━━━━━━━━━━━\u001B[0m \u001B[32m49.3/156.5 MB\u001B[0m \u001B[31m198.8 MB/s\u001B[0m eta \u001B[36m0:00:01\u001B[0m\n\u001B[2K   \u001B[91m━━━━━━━━━━━━\u001B[0m\u001B[91m╸\u001B[0m\u001B[90m━━━━━━━━━━━━━━━━━━━━━━━━━━━\u001B[0m \u001B[32m49.3/156.5 MB\u001B[0m \u001B[31m198.8 MB/s\u001B[0m eta \u001B[36m0:00:01\u001B[0m\n\u001B[2K   \u001B[91m━━━━━━━━━━━━\u001B[0m\u001B[91m╸\u001B[0m\u001B[90m━━━━━━━━━━━━━━━━━━━━━━━━━━━\u001B[0m \u001B[32m49.3/156.5 MB\u001B[0m \u001B[31m198.8 MB/s\u001B[0m eta \u001B[36m0:00:01\u001B[0m\n\u001B[2K   \u001B[91m━━━━━━━━━━━━\u001B[0m\u001B[91m╸\u001B[0m\u001B[90m━━━━━━━━━━━━━━━━━━━━━━━━━━━\u001B[0m \u001B[32m49.3/156.5 MB\u001B[0m \u001B[31m198.8 MB/s\u001B[0m eta \u001B[36m0:00:01\u001B[0m\n\u001B[2K   \u001B[91m━━━━━━━━━━━━━━\u001B[0m\u001B[90m╺\u001B[0m\u001B[90m━━━━━━━━━━━━━━━━━━━━━━━━━\u001B[0m \u001B[32m55.1/156.5 MB\u001B[0m \u001B[31m55.1 MB/s\u001B[0m eta \u001B[36m0:00:02\u001B[0m\n\u001B[2K   \u001B[91m━━━━━━━━━━━━━━━\u001B[0m\u001B[91m╸\u001B[0m\u001B[90m━━━━━━━━━━━━━━━━━━━━━━━━\u001B[0m \u001B[32m62.2/156.5 MB\u001B[0m \u001B[31m191.1 MB/s\u001B[0m eta \u001B[36m0:00:01\u001B[0m\n\u001B[2K   \u001B[91m━━━━━━━━━━━━━━━━━\u001B[0m\u001B[91m╸\u001B[0m\u001B[90m━━━━━━━━━━━━━━━━━━━━━━\u001B[0m \u001B[32m69.1/156.5 MB\u001B[0m \u001B[31m201.7 MB/s\u001B[0m eta \u001B[36m0:00:01\u001B[0m\n\u001B[2K   \u001B[91m━━━━━━━━━━━━━━━━━━━\u001B[0m\u001B[90m╺\u001B[0m\u001B[90m━━━━━━━━━━━━━━━━━━━━\u001B[0m \u001B[32m75.9/156.5 MB\u001B[0m \u001B[31m203.6 MB/s\u001B[0m eta \u001B[36m0:00:01\u001B[0m\n\u001B[2K   \u001B[91m━━━━━━━━━━━━━━━━━━━━━\u001B[0m\u001B[90m╺\u001B[0m\u001B[90m━━━━━━━━━━━━━━━━━━\u001B[0m \u001B[32m82.7/156.5 MB\u001B[0m \u001B[31m197.7 MB/s\u001B[0m eta \u001B[36m0:00:01\u001B[0m\n\u001B[2K   \u001B[91m━━━━━━━━━━━━━━━━━━━━━━\u001B[0m\u001B[91m╸\u001B[0m\u001B[90m━━━━━━━━━━━━━━━━━\u001B[0m \u001B[32m89.7/156.5 MB\u001B[0m \u001B[31m203.5 MB/s\u001B[0m eta \u001B[36m0:00:01\u001B[0m\n\u001B[2K   \u001B[91m━━━━━━━━━━━━━━━━━━━━━━━━\u001B[0m\u001B[91m╸\u001B[0m\u001B[90m━━━━━━━━━━━━━━━\u001B[0m \u001B[32m96.7/156.5 MB\u001B[0m \u001B[31m201.9 MB/s\u001B[0m eta \u001B[36m0:00:01\u001B[0m\n\u001B[2K   \u001B[91m━━━━━━━━━━━━━━━━━━━━━━━━━\u001B[0m\u001B[91m╸\u001B[0m\u001B[90m━━━━━━━━━━━━━\u001B[0m \u001B[32m103.5/156.5 MB\u001B[0m \u001B[31m201.6 MB/s\u001B[0m eta \u001B[36m0:00:01\u001B[0m\n\u001B[2K   \u001B[91m━━━━━━━━━━━━━━━━━━━━━━━━━━━\u001B[0m\u001B[91m╸\u001B[0m\u001B[90m━━━━━━━━━━━\u001B[0m \u001B[32m110.6/156.5 MB\u001B[0m \u001B[31m201.7 MB/s\u001B[0m eta \u001B[36m0:00:01\u001B[0m\n\u001B[2K   \u001B[91m━━━━━━━━━━━━━━━━━━━━━━━━━━━━━\u001B[0m\u001B[90m╺\u001B[0m\u001B[90m━━━━━━━━━\u001B[0m \u001B[32m117.4/156.5 MB\u001B[0m \u001B[31m201.8 MB/s\u001B[0m eta \u001B[36m0:00:01\u001B[0m\n\u001B[2K   \u001B[91m━━━━━━━━━━━━━━━━━━━━━━━━━━━━━━\u001B[0m\u001B[91m╸\u001B[0m\u001B[90m━━━━━━━━\u001B[0m \u001B[32m124.3/156.5 MB\u001B[0m \u001B[31m199.9 MB/s\u001B[0m eta \u001B[36m0:00:01\u001B[0m\n\u001B[2K   \u001B[91m━━━━━━━━━━━━━━━━━━━━━━━━━━━━━━━━\u001B[0m\u001B[91m╸\u001B[0m\u001B[90m━━━━━━\u001B[0m \u001B[32m131.2/156.5 MB\u001B[0m \u001B[31m198.6 MB/s\u001B[0m eta \u001B[36m0:00:01\u001B[0m\n\u001B[2K   \u001B[91m━━━━━━━━━━━━━━━━━━━━━━━━━━━━━━━━━━\u001B[0m\u001B[90m╺\u001B[0m\u001B[90m━━━━\u001B[0m \u001B[32m138.2/156.5 MB\u001B[0m \u001B[31m201.3 MB/s\u001B[0m eta \u001B[36m0:00:01\u001B[0m\n\u001B[2K   \u001B[91m━━━━━━━━━━━━━━━━━━━━━━━━━━━━━━━━━━━\u001B[0m\u001B[91m╸\u001B[0m\u001B[90m━━━\u001B[0m \u001B[32m143.8/156.5 MB\u001B[0m \u001B[31m202.2 MB/s\u001B[0m eta \u001B[36m0:00:01\u001B[0m\n\u001B[2K   \u001B[91m━━━━━━━━━━━━━━━━━━━━━━━━━━━━━━━━━━━\u001B[0m\u001B[91m╸\u001B[0m\u001B[90m━━━\u001B[0m \u001B[32m143.9/156.5 MB\u001B[0m \u001B[31m113.7 MB/s\u001B[0m eta \u001B[36m0:00:01\u001B[0m\n\u001B[2K   \u001B[91m━━━━━━━━━━━━━━━━━━━━━━━━━━━━━━━━━━━━\u001B[0m\u001B[91m╸\u001B[0m\u001B[90m━━━\u001B[0m \u001B[32m144.0/156.5 MB\u001B[0m \u001B[31m88.8 MB/s\u001B[0m eta \u001B[36m0:00:01\u001B[0m\n\u001B[2K   \u001B[91m━━━━━━━━━━━━━━━━━━━━━━━━━━━━━━━━━━━━\u001B[0m\u001B[91m╸\u001B[0m\u001B[90m━━━\u001B[0m \u001B[32m144.2/156.5 MB\u001B[0m \u001B[31m66.0 MB/s\u001B[0m eta \u001B[36m0:00:01\u001B[0m\n\u001B[2K   \u001B[91m━━━━━━━━━━━━━━━━━━━━━━━━━━━━━━━━━━━━\u001B[0m\u001B[91m╸\u001B[0m\u001B[90m━━━\u001B[0m \u001B[32m144.6/156.5 MB\u001B[0m \u001B[31m53.2 MB/s\u001B[0m eta \u001B[36m0:00:01\u001B[0m\n\u001B[2K   \u001B[91m━━━━━━━━━━━━━━━━━━━━━━━━━━━━━━━━━━━━━━\u001B[0m\u001B[90m╺\u001B[0m\u001B[90m━\u001B[0m \u001B[32m150.6/156.5 MB\u001B[0m \u001B[31m52.0 MB/s\u001B[0m eta \u001B[36m0:00:01\u001B[0m\n\u001B[2K   \u001B[91m━━━━━━━━━━━━━━━━━━━━━━━━━━━━━━━━━━━━━━\u001B[0m\u001B[91m╸\u001B[0m \u001B[32m156.5/156.5 MB\u001B[0m \u001B[31m209.7 MB/s\u001B[0m eta \u001B[36m0:00:01\u001B[0m\n\u001B[2K   \u001B[91m━━━━━━━━━━━━━━━━━━━━━━━━━━━━━━━━━━━━━━\u001B[0m\u001B[91m╸\u001B[0m \u001B[32m156.5/156.5 MB\u001B[0m \u001B[31m209.7 MB/s\u001B[0m eta \u001B[36m0:00:01\u001B[0m\n\u001B[2K   \u001B[91m━━━━━━━━━━━━━━━━━━━━━━━━━━━━━━━━━━━━━━\u001B[0m\u001B[91m╸\u001B[0m \u001B[32m156.5/156.5 MB\u001B[0m \u001B[31m209.7 MB/s\u001B[0m eta \u001B[36m0:00:01\u001B[0m\n\u001B[2K   \u001B[91m━━━━━━━━━━━━━━━━━━━━━━━━━━━━━━━━━━━━━━\u001B[0m\u001B[91m╸\u001B[0m \u001B[32m156.5/156.5 MB\u001B[0m \u001B[31m209.7 MB/s\u001B[0m eta \u001B[36m0:00:01\u001B[0m\n\u001B[2K   \u001B[91m━━━━━━━━━━━━━━━━━━━━━━━━━━━━━━━━━━━━━━\u001B[0m\u001B[91m╸\u001B[0m \u001B[32m156.5/156.5 MB\u001B[0m \u001B[31m209.7 MB/s\u001B[0m eta \u001B[36m0:00:01\u001B[0m\n\u001B[2K   \u001B[91m━━━━━━━━━━━━━━━━━━━━━━━━━━━━━━━━━━━━━━\u001B[0m\u001B[91m╸\u001B[0m \u001B[32m156.5/156.5 MB\u001B[0m \u001B[31m209.7 MB/s\u001B[0m eta \u001B[36m0:00:01\u001B[0m\n\u001B[2K   \u001B[91m━━━━━━━━━━━━━━━━━━━━━━━━━━━━━━━━━━━━━━\u001B[0m\u001B[91m╸\u001B[0m \u001B[32m156.5/156.5 MB\u001B[0m \u001B[31m209.7 MB/s\u001B[0m eta \u001B[36m0:00:01\u001B[0m\n\u001B[2K   \u001B[91m━━━━━━━━━━━━━━━━━━━━━━━━━━━━━━━━━━━━━━\u001B[0m\u001B[91m╸\u001B[0m \u001B[32m156.5/156.5 MB\u001B[0m \u001B[31m209.7 MB/s\u001B[0m eta \u001B[36m0:00:01\u001B[0m\n\u001B[2K   \u001B[91m━━━━━━━━━━━━━━━━━━━━━━━━━━━━━━━━━━━━━━\u001B[0m\u001B[91m╸\u001B[0m \u001B[32m156.5/156.5 MB\u001B[0m \u001B[31m209.7 MB/s\u001B[0m eta \u001B[36m0:00:01\u001B[0m\n\u001B[2K   \u001B[91m━━━━━━━━━━━━━━━━━━━━━━━━━━━━━━━━━━━━━━\u001B[0m\u001B[91m╸\u001B[0m \u001B[32m156.5/156.5 MB\u001B[0m \u001B[31m209.7 MB/s\u001B[0m eta \u001B[36m0:00:01\u001B[0m\n\u001B[2K   \u001B[91m━━━━━━━━━━━━━━━━━━━━━━━━━━━━━━━━━━━━━━\u001B[0m\u001B[91m╸\u001B[0m \u001B[32m156.5/156.5 MB\u001B[0m \u001B[31m209.7 MB/s\u001B[0m eta \u001B[36m0:00:01\u001B[0m\n\u001B[2K   \u001B[91m━━━━━━━━━━━━━━━━━━━━━━━━━━━━━━━━━━━━━━\u001B[0m\u001B[91m╸\u001B[0m \u001B[32m156.5/156.5 MB\u001B[0m \u001B[31m209.7 MB/s\u001B[0m eta \u001B[36m0:00:01\u001B[0m\n\u001B[2K   \u001B[91m━━━━━━━━━━━━━━━━━━━━━━━━━━━━━━━━━━━━━━\u001B[0m\u001B[91m╸\u001B[0m \u001B[32m156.5/156.5 MB\u001B[0m \u001B[31m209.7 MB/s\u001B[0m eta \u001B[36m0:00:01\u001B[0m\n\u001B[2K   \u001B[91m━━━━━━━━━━━━━━━━━━━━━━━━━━━━━━━━━━━━━━\u001B[0m\u001B[91m╸\u001B[0m \u001B[32m156.5/156.5 MB\u001B[0m \u001B[31m209.7 MB/s\u001B[0m eta \u001B[36m0:00:01\u001B[0m\n\u001B[2K   \u001B[91m━━━━━━━━━━━━━━━━━━━━━━━━━━━━━━━━━━━━━━\u001B[0m\u001B[91m╸\u001B[0m \u001B[32m156.5/156.5 MB\u001B[0m \u001B[31m209.7 MB/s\u001B[0m eta \u001B[36m0:00:01\u001B[0m\n\u001B[2K   \u001B[91m━━━━━━━━━━━━━━━━━━━━━━━━━━━━━━━━━━━━━━\u001B[0m\u001B[91m╸\u001B[0m \u001B[32m156.5/156.5 MB\u001B[0m \u001B[31m209.7 MB/s\u001B[0m eta \u001B[36m0:00:01\u001B[0m\n\u001B[2K   \u001B[91m━━━━━━━━━━━━━━━━━━━━━━━━━━━━━━━━━━━━━━\u001B[0m\u001B[91m╸\u001B[0m \u001B[32m156.5/156.5 MB\u001B[0m \u001B[31m209.7 MB/s\u001B[0m eta \u001B[36m0:00:01\u001B[0m\n\u001B[2K   \u001B[91m━━━━━━━━━━━━━━━━━━━━━━━━━━━━━━━━━━━━━━\u001B[0m\u001B[91m╸\u001B[0m \u001B[32m156.5/156.5 MB\u001B[0m \u001B[31m209.7 MB/s\u001B[0m eta \u001B[36m0:00:01\u001B[0m\n\u001B[2K   \u001B[91m━━━━━━━━━━━━━━━━━━━━━━━━━━━━━━━━━━━━━━\u001B[0m\u001B[91m╸\u001B[0m \u001B[32m156.5/156.5 MB\u001B[0m \u001B[31m209.7 MB/s\u001B[0m eta \u001B[36m0:00:01\u001B[0m\n\u001B[2K   \u001B[91m━━━━━━━━━━━━━━━━━━━━━━━━━━━━━━━━━━━━━━\u001B[0m\u001B[91m╸\u001B[0m \u001B[32m156.5/156.5 MB\u001B[0m \u001B[31m209.7 MB/s\u001B[0m eta \u001B[36m0:00:01\u001B[0m\n\u001B[2K   \u001B[91m━━━━━━━━━━━━━━━━━━━━━━━━━━━━━━━━━━━━━━\u001B[0m\u001B[91m╸\u001B[0m \u001B[32m156.5/156.5 MB\u001B[0m \u001B[31m209.7 MB/s\u001B[0m eta \u001B[36m0:00:01\u001B[0m\n\u001B[2K   \u001B[91m━━━━━━━━━━━━━━━━━━━━━━━━━━━━━━━━━━━━━━\u001B[0m\u001B[91m╸\u001B[0m \u001B[32m156.5/156.5 MB\u001B[0m \u001B[31m209.7 MB/s\u001B[0m eta \u001B[36m0:00:01\u001B[0m\n\u001B[2K   \u001B[91m━━━━━━━━━━━━━━━━━━━━━━━━━━━━━━━━━━━━━━\u001B[0m\u001B[91m╸\u001B[0m \u001B[32m156.5/156.5 MB\u001B[0m \u001B[31m209.7 MB/s\u001B[0m eta \u001B[36m0:00:01\u001B[0m\n\u001B[2K   \u001B[91m━━━━━━━━━━━━━━━━━━━━━━━━━━━━━━━━━━━━━━\u001B[0m\u001B[91m╸\u001B[0m \u001B[32m156.5/156.5 MB\u001B[0m \u001B[31m209.7 MB/s\u001B[0m eta \u001B[36m0:00:01\u001B[0m\n\u001B[2K   \u001B[91m━━━━━━━━━━━━━━━━━━━━━━━━━━━━━━━━━━━━━━\u001B[0m\u001B[91m╸\u001B[0m \u001B[32m156.5/156.5 MB\u001B[0m \u001B[31m209.7 MB/s\u001B[0m eta \u001B[36m0:00:01\u001B[0m\n\u001B[2K   \u001B[91m━━━━━━━━━━━━━━━━━━━━━━━━━━━━━━━━━━━━━━\u001B[0m\u001B[91m╸\u001B[0m \u001B[32m156.5/156.5 MB\u001B[0m \u001B[31m209.7 MB/s\u001B[0m eta \u001B[36m0:00:01\u001B[0m\n\u001B[2K   \u001B[91m━━━━━━━━━━━━━━━━━━━━━━━━━━━━━━━━━━━━━━\u001B[0m\u001B[91m╸\u001B[0m \u001B[32m156.5/156.5 MB\u001B[0m \u001B[31m209.7 MB/s\u001B[0m eta \u001B[36m0:00:01\u001B[0m\n\u001B[2K   \u001B[91m━━━━━━━━━━━━━━━━━━━━━━━━━━━━━━━━━━━━━━\u001B[0m\u001B[91m╸\u001B[0m \u001B[32m156.5/156.5 MB\u001B[0m \u001B[31m209.7 MB/s\u001B[0m eta \u001B[36m0:00:01\u001B[0m\n\u001B[2K   \u001B[91m━━━━━━━━━━━━━━━━━━━━━━━━━━━━━━━━━━━━━━\u001B[0m\u001B[91m╸\u001B[0m \u001B[32m156.5/156.5 MB\u001B[0m \u001B[31m209.7 MB/s\u001B[0m eta \u001B[36m0:00:01\u001B[0m\n\u001B[2K   \u001B[91m━━━━━━━━━━━━━━━━━━━━━━━━━━━━━━━━━━━━━━\u001B[0m\u001B[91m╸\u001B[0m \u001B[32m156.5/156.5 MB\u001B[0m \u001B[31m209.7 MB/s\u001B[0m eta \u001B[36m0:00:01\u001B[0m\n\u001B[2K   \u001B[91m━━━━━━━━━━━━━━━━━━━━━━━━━━━━━━━━━━━━━━\u001B[0m\u001B[91m╸\u001B[0m \u001B[32m156.5/156.5 MB\u001B[0m \u001B[31m209.7 MB/s\u001B[0m eta \u001B[36m0:00:01\u001B[0m\n\u001B[2K   \u001B[91m━━━━━━━━━━━━━━━━━━━━━━━━━━━━━━━━━━━━━━\u001B[0m\u001B[91m╸\u001B[0m \u001B[32m156.5/156.5 MB\u001B[0m \u001B[31m209.7 MB/s\u001B[0m eta \u001B[36m0:00:01\u001B[0m\n\u001B[2K   \u001B[91m━━━━━━━━━━━━━━━━━━━━━━━━━━━━━━━━━━━━━━\u001B[0m\u001B[91m╸\u001B[0m \u001B[32m156.5/156.5 MB\u001B[0m \u001B[31m209.7 MB/s\u001B[0m eta \u001B[36m0:00:01\u001B[0m\n\u001B[2K   \u001B[91m━━━━━━━━━━━━━━━━━━━━━━━━━━━━━━━━━━━━━━\u001B[0m\u001B[91m╸\u001B[0m \u001B[32m156.5/156.5 MB\u001B[0m \u001B[31m209.7 MB/s\u001B[0m eta \u001B[36m0:00:01\u001B[0m\n\u001B[2K   \u001B[91m━━━━━━━━━━━━━━━━━━━━━━━━━━━━━━━━━━━━━━\u001B[0m\u001B[91m╸\u001B[0m \u001B[32m156.5/156.5 MB\u001B[0m \u001B[31m209.7 MB/s\u001B[0m eta \u001B[36m0:00:01\u001B[0m\n\u001B[2K   \u001B[91m━━━━━━━━━━━━━━━━━━━━━━━━━━━━━━━━━━━━━━\u001B[0m\u001B[91m╸\u001B[0m \u001B[32m156.5/156.5 MB\u001B[0m \u001B[31m209.7 MB/s\u001B[0m eta \u001B[36m0:00:01\u001B[0m\n\u001B[2K   \u001B[91m━━━━━━━━━━━━━━━━━━━━━━━━━━━━━━━━━━━━━━\u001B[0m\u001B[91m╸\u001B[0m \u001B[32m156.5/156.5 MB\u001B[0m \u001B[31m209.7 MB/s\u001B[0m eta \u001B[36m0:00:01\u001B[0m\n\u001B[2K   \u001B[91m━━━━━━━━━━━━━━━━━━━━━━━━━━━━━━━━━━━━━━\u001B[0m\u001B[91m╸\u001B[0m \u001B[32m156.5/156.5 MB\u001B[0m \u001B[31m209.7 MB/s\u001B[0m eta \u001B[36m0:00:01\u001B[0m\n\u001B[2K   \u001B[91m━━━━━━━━━━━━━━━━━━━━━━━━━━━━━━━━━━━━━━\u001B[0m\u001B[91m╸\u001B[0m \u001B[32m156.5/156.5 MB\u001B[0m \u001B[31m209.7 MB/s\u001B[0m eta \u001B[36m0:00:01\u001B[0m\n\u001B[2K   \u001B[91m━━━━━━━━━━━━━━━━━━━━━━━━━━━━━━━━━━━━━━\u001B[0m\u001B[91m╸\u001B[0m \u001B[32m156.5/156.5 MB\u001B[0m \u001B[31m209.7 MB/s\u001B[0m eta \u001B[36m0:00:01\u001B[0m\n\u001B[2K   \u001B[91m━━━━━━━━━━━━━━━━━━━━━━━━━━━━━━━━━━━━━━\u001B[0m\u001B[91m╸\u001B[0m \u001B[32m156.5/156.5 MB\u001B[0m \u001B[31m209.7 MB/s\u001B[0m eta \u001B[36m0:00:01\u001B[0m\n\u001B[2K   \u001B[91m━━━━━━━━━━━━━━━━━━━━━━━━━━━━━━━━━━━━━━\u001B[0m\u001B[91m╸\u001B[0m \u001B[32m156.5/156.5 MB\u001B[0m \u001B[31m209.7 MB/s\u001B[0m eta \u001B[36m0:00:01\u001B[0m\n\u001B[2K   \u001B[90m━━━━━━━━━━━━━━━━━━━━━━━━━━━━━━━━━━━━━━━━\u001B[0m \u001B[32m156.5/156.5 MB\u001B[0m \u001B[31m6.5 MB/s\u001B[0m eta \u001B[36m0:00:00\u001B[0m\n\u001B[?25hDownloading sympy-1.14.0-py3-none-any.whl (6.3 MB)\n\u001B[?25l   \u001B[90m━━━━━━━━━━━━━━━━━━━━━━━━━━━━━━━━━━━━━━━━\u001B[0m \u001B[32m0.0/6.3 MB\u001B[0m \u001B[31m?\u001B[0m eta \u001B[36m-:--:--\u001B[0m\n\u001B[2K   \u001B[91m━━━━━━━━━━━━━━━━━━━━━━\u001B[0m\u001B[91m╸\u001B[0m\u001B[90m━━━━━━━━━━━━━━━━━\u001B[0m \u001B[32m3.6/6.3 MB\u001B[0m \u001B[31m107.0 MB/s\u001B[0m eta \u001B[36m0:00:01\u001B[0m\n\u001B[2K   \u001B[90m━━━━━━━━━━━━━━━━━━━━━━━━━━━━━━━━━━━━━━━━\u001B[0m \u001B[32m6.3/6.3 MB\u001B[0m \u001B[31m93.7 MB/s\u001B[0m eta \u001B[36m0:00:00\u001B[0m\n\u001B[?25hDownloading fsspec-2025.3.2-py3-none-any.whl (194 kB)\n\u001B[?25l   \u001B[90m━━━━━━━━━━━━━━━━━━━━━━━━━━━━━━━━━━━━━━━━\u001B[0m \u001B[32m0.0/194.4 kB\u001B[0m \u001B[31m?\u001B[0m eta \u001B[36m-:--:--\u001B[0m\n\u001B[2K   \u001B[90m━━━━━━━━━━━━━━━━━━━━━━━━━━━━━━━━━━━━━━━━\u001B[0m \u001B[32m194.4/194.4 kB\u001B[0m \u001B[31m33.5 MB/s\u001B[0m eta \u001B[36m0:00:00\u001B[0m\n\u001B[?25hDownloading jinja2-3.1.6-py3-none-any.whl (134 kB)\n\u001B[?25l   \u001B[90m━━━━━━━━━━━━━━━━━━━━━━━━━━━━━━━━━━━━━━━━\u001B[0m \u001B[32m0.0/134.9 kB\u001B[0m \u001B[31m?\u001B[0m eta \u001B[36m-:--:--\u001B[0m\n\u001B[2K   \u001B[90m━━━━━━━━━━━━━━━━━━━━━━━━━━━━━━━━━━━━━━━━\u001B[0m \u001B[32m134.9/134.9 kB\u001B[0m \u001B[31m25.8 MB/s\u001B[0m eta \u001B[36m0:00:00\u001B[0m\n\u001B[?25hDownloading networkx-3.4.2-py3-none-any.whl (1.7 MB)\n\u001B[?25l   \u001B[90m━━━━━━━━━━━━━━━━━━━━━━━━━━━━━━━━━━━━━━━━\u001B[0m \u001B[32m0.0/1.7 MB\u001B[0m \u001B[31m?\u001B[0m eta \u001B[36m-:--:--\u001B[0m\n\u001B[2K   \u001B[90m━━━━━━━━━━━━━━━━━━━━━━━━━━━━━━━━━━━━━━━━\u001B[0m \u001B[32m1.7/1.7 MB\u001B[0m \u001B[31m116.9 MB/s\u001B[0m eta \u001B[36m0:00:00\u001B[0m\n\u001B[?25hDownloading MarkupSafe-3.0.2-cp311-cp311-manylinux_2_17_x86_64.manylinux2014_x86_64.whl (23 kB)\nDownloading mpmath-1.3.0-py3-none-any.whl (536 kB)\n\u001B[?25l   \u001B[90m━━━━━━━━━━━━━━━━━━━━━━━━━━━━━━━━━━━━━━━━\u001B[0m \u001B[32m0.0/536.2 kB\u001B[0m \u001B[31m?\u001B[0m eta \u001B[36m-:--:--\u001B[0m\n\u001B[2K   \u001B[90m━━━━━━━━━━━━━━━━━━━━━━━━━━━━━━━━━━━━━━━━\u001B[0m \u001B[32m536.2/536.2 kB\u001B[0m \u001B[31m71.7 MB/s\u001B[0m eta \u001B[36m0:00:00\u001B[0m\n\u001B[?25hInstalling collected packages: nvidia-cusparselt-cu12, mpmath, triton, sympy, nvidia-nvtx-cu12, nvidia-nvjitlink-cu12, nvidia-nccl-cu12, nvidia-curand-cu12, nvidia-cufile-cu12, nvidia-cuda-runtime-cu12, nvidia-cuda-nvrtc-cu12, nvidia-cuda-cupti-cu12, nvidia-cublas-cu12, networkx, MarkupSafe, fsspec, nvidia-cusparse-cu12, nvidia-cufft-cu12, nvidia-cudnn-cu12, jinja2, nvidia-cusolver-cu12, torch\nSuccessfully installed MarkupSafe-3.0.2 fsspec-2025.3.2 jinja2-3.1.6 mpmath-1.3.0 networkx-3.4.2 nvidia-cublas-cu12-12.6.4.1 nvidia-cuda-cupti-cu12-12.6.80 nvidia-cuda-nvrtc-cu12-12.6.77 nvidia-cuda-runtime-cu12-12.6.77 nvidia-cudnn-cu12-9.5.1.17 nvidia-cufft-cu12-11.3.0.4 nvidia-cufile-cu12-1.11.1.6 nvidia-curand-cu12-10.3.7.77 nvidia-cusolver-cu12-11.7.1.2 nvidia-cusparse-cu12-12.5.4.2 nvidia-cusparselt-cu12-0.6.3 nvidia-nccl-cu12-2.26.2 nvidia-nvjitlink-cu12-12.6.85 nvidia-nvtx-cu12-12.6.77 sympy-1.14.0 torch-2.7.0 triton-3.3.0\n\u001B[43mNote: you may need to restart the kernel using %restart_python or dbutils.library.restartPython() to use updated packages.\u001B[0m\n"
     ]
    }
   ],
   "source": [
    "pip install torch"
   ]
  },
  {
   "cell_type": "code",
   "execution_count": 0,
   "metadata": {
    "application/vnd.databricks.v1+cell": {
     "cellMetadata": {
      "byteLimit": 2048000,
      "rowLimit": 10000
     },
     "inputWidgets": {},
     "nuid": "375e334b-c922-4884-9fdf-dd10279037fa",
     "showTitle": false,
     "tableResultSettingsMap": {},
     "title": ""
    }
   },
   "outputs": [],
   "source": [
    "import torch\n",
    "import torch.nn as nn\n",
    "import torch.optim as optim\n",
    "\n",
    "class AutoEncoder(nn.Module):\n",
    "    def __init__(self, input_dim):\n",
    "        super(AutoEncoder, self).__init__()\n",
    "        self.encoder = nn.Sequential(\n",
    "            nn.Linear(input_dim, 32),\n",
    "            nn.ReLU(),\n",
    "            nn.Linear(32, 16),\n",
    "            nn.ReLU()\n",
    "        )\n",
    "        self.decoder = nn.Sequential(\n",
    "            nn.Linear(16, 32),\n",
    "            nn.ReLU(),\n",
    "            nn.Linear(32, input_dim)\n",
    "        )\n",
    "\n",
    "    def forward(self, x):\n",
    "        encoded = self.encoder(x)\n",
    "        decoded = self.decoder(encoded)\n",
    "        return decoded\n"
   ]
  },
  {
   "cell_type": "code",
   "execution_count": 0,
   "metadata": {
    "application/vnd.databricks.v1+cell": {
     "cellMetadata": {
      "byteLimit": 2048000,
      "rowLimit": 10000
     },
     "inputWidgets": {},
     "nuid": "8070f4ec-0ce4-416d-be06-1f0c2dc267d4",
     "showTitle": false,
     "tableResultSettingsMap": {},
     "title": ""
    }
   },
   "outputs": [],
   "source": [
    "from sklearn.model_selection import train_test_split\n",
    "from torch.utils.data import DataLoader, TensorDataset\n",
    "\n",
    "# X: StandardScaler로 정규화된 데이터라고 가정\n",
    "X_train, X_val = train_test_split(X, test_size=0.2, random_state=42)\n",
    "\n",
    "# Tensor로 변환\n",
    "X_train_tensor = torch.tensor(X_train, dtype=torch.float32)\n",
    "X_val_tensor = torch.tensor(X_val, dtype=torch.float32)\n",
    "\n",
    "train_loader = DataLoader(TensorDataset(X_train_tensor), batch_size=64, shuffle=True)\n",
    "\n",
    "# 모델 초기화\n",
    "input_dim = X.shape[1]\n",
    "model = AutoEncoder(input_dim)\n",
    "criterion = nn.MSELoss()\n",
    "optimizer = optim.Adam(model.parameters(), lr=1e-3)\n",
    "\n",
    "# 학습\n",
    "n_epochs = 30\n",
    "model.train()\n",
    "for epoch in range(n_epochs):\n",
    "    for batch in train_loader:\n",
    "        x_batch = batch[0]\n",
    "        optimizer.zero_grad()\n",
    "        outputs = model(x_batch)\n",
    "        loss = criterion(outputs, x_batch)\n",
    "        loss.backward()\n",
    "        optimizer.step()"
   ]
  },
  {
   "cell_type": "code",
   "execution_count": 0,
   "metadata": {
    "application/vnd.databricks.v1+cell": {
     "cellMetadata": {
      "byteLimit": 2048000,
      "rowLimit": 10000
     },
     "inputWidgets": {},
     "nuid": "983cc825-b953-47a6-919f-6de0672e3122",
     "showTitle": false,
     "tableResultSettingsMap": {},
     "title": ""
    }
   },
   "outputs": [],
   "source": [
    "# 재구성 오차 \n",
    "model.eval()\n",
    "X_tensor = torch.tensor(X, dtype=torch.float32)\n",
    "with torch.no_grad():\n",
    "    recon = model(X_tensor)\n",
    "    mse = torch.mean((X_tensor - recon) ** 2, dim=1).numpy()\n"
   ]
  },
  {
   "cell_type": "code",
   "execution_count": 0,
   "metadata": {
    "application/vnd.databricks.v1+cell": {
     "cellMetadata": {
      "byteLimit": 2048000,
      "rowLimit": 10000
     },
     "inputWidgets": {},
     "nuid": "bdc62355-3944-464f-8b89-225eecde6446",
     "showTitle": false,
     "tableResultSettingsMap": {},
     "title": ""
    }
   },
   "outputs": [
    {
     "output_type": "stream",
     "name": "stdout",
     "output_type": "stream",
     "text": [
      "0    561013\n1     29527\nName: anomaly_autoencoder, dtype: int64\n"
     ]
    }
   ],
   "source": [
    "# 오차가 큰 경우, pseudo_labels =1 (이상치)\n",
    "import numpy as np\n",
    "\n",
    "threshold = np.percentile(mse, 95)  # 상위 5% 이상치는 이상 거래\n",
    "pseudo_labels = (mse > threshold).astype(int)\n",
    "\n",
    "# 저장\n",
    "fds_pdf_encoded['anomaly_autoencoder'] = pseudo_labels\n",
    "\n",
    "# 확인\n",
    "print(fds_pdf_encoded['anomaly_autoencoder'].value_counts())\n"
   ]
  },
  {
   "cell_type": "code",
   "execution_count": 0,
   "metadata": {
    "application/vnd.databricks.v1+cell": {
     "cellMetadata": {
      "byteLimit": 2048000,
      "rowLimit": 10000
     },
     "inputWidgets": {},
     "nuid": "48e032db-6595-49f4-8142-1ae5ec026b58",
     "showTitle": false,
     "tableResultSettingsMap": {},
     "title": ""
    }
   },
   "outputs": [
    {
     "output_type": "stream",
     "name": "stdout",
     "output_type": "stream",
     "text": [
      "      transaction_time  TransactionDT recipient  TransactionAmt  hour  \\\n0  2025-01-14 09:56:23          86400        춘자         68500.0     9   \n1  2025-04-20 22:42:41          86401        수빈         29000.0    22   \n2  2025-04-09 19:27:13          86469        서준         59000.0    19   \n3  2025-01-30 01:26:54          86499        병철         50000.0     1   \n4  2025-01-24 22:58:30          86506        민수         50000.0    22   \n\n   voice_match                     DeviceInfo region receiver_bank  \\\n0            1                            NaN     대구          토스뱅크   \n1            0                            NaN     대구         카카오뱅크   \n2            1                            NaN     부산          신한은행   \n3            1                            NaN     부산         카카오뱅크   \n4            1  SAMSUNG SM-G892A Build/NRD90M     서울          우리은행   \n\n   receiver_account  is_new_account_for_user  avg_amount_to_bank  \\\n0     1000000266274                        0              481616   \n1     1000000573349                        1               79943   \n2     1000000451208                        0              218283   \n3     1000000473588                        0              457390   \n4     1000000040287                        0              289443   \n\n   amount_ratio_to_bank_avg  is_nighttime  recent_transaction_gap  \\\n0                  0.142229             0               14.932585   \n1                  0.362758             0               21.894439   \n2                  0.270291             0               17.249459   \n3                  0.109316             1               12.112011   \n4                  0.172746             0               75.834574   \n\n   is_new_device      ip_address  vpn app_version  rooting  \\\n0              0    58.232.2.170    0       3.1.0        0   \n1              0      25.0.3.185    0       3.4.3        0   \n2              0  168.188.65.132    1       1.2.1        1   \n3              1  158.221.28.126    1       3.8.1        1   \n4              1  171.223.101.73    1       3.6.0        1   \n\n   payment_method_P01  payment_method_P02  payment_method_P03  \\\n0                   0                   0                   0   \n1                   0                   0                   0   \n2                   1                   0                   0   \n3                   0                   0                   0   \n4                   0                   0                   0   \n\n   payment_method_P04  payment_method_P05  payment_method_P06  intent_T01  \\\n0                   1                   0                   0           0   \n1                   0                   1                   0           0   \n2                   0                   0                   0           0   \n3                   0                   1                   0           0   \n4                   1                   0                   0           0   \n\n   intent_T02  intent_T03  intent_T04  intent_T05  authentication_A01  \\\n0           0           0           0           1                   0   \n1           1           0           0           0                   0   \n2           0           0           0           1                   0   \n3           0           0           0           1                   0   \n4           1           0           0           0                   0   \n\n   authentication_A02  authentication_A03  authentication_A04  \\\n0                   0                   0                   0   \n1                   1                   0                   0   \n2                   0                   0                   0   \n3                   1                   0                   0   \n4                   1                   0                   0   \n\n   authentication_A05  authentication_A06  anomaly_iforest  \\\n0                   0                   1                0   \n1                   0                   0                0   \n2                   0                   1                0   \n3                   0                   0                0   \n4                   0                   0                0   \n\n   anomaly_autoencoder  \n0                    0  \n1                    0  \n2                    0  \n3                    0  \n4                    0  \n"
     ]
    }
   ],
   "source": [
    "pd.set_option('display.max_rows', None)\n",
    "pd.set_option('display.max_columns', None)\n",
    "\n",
    "print(fds_pdf_encoded.head())"
   ]
  },
  {
   "cell_type": "markdown",
   "metadata": {
    "application/vnd.databricks.v1+cell": {
     "cellMetadata": {},
     "inputWidgets": {},
     "nuid": "5b3d23c7-3d1c-4f9e-9af1-7b5ea2d8dd6e",
     "showTitle": false,
     "tableResultSettingsMap": {},
     "title": ""
    }
   },
   "source": [
    "Unsupervised Learning 적용③ - VAE"
   ]
  },
  {
   "cell_type": "code",
   "execution_count": 0,
   "metadata": {
    "application/vnd.databricks.v1+cell": {
     "cellMetadata": {
      "byteLimit": 2048000,
      "rowLimit": 10000
     },
     "inputWidgets": {},
     "nuid": "02f097fc-aa4c-4d5f-8947-be876b1e83fd",
     "showTitle": false,
     "tableResultSettingsMap": {},
     "title": ""
    }
   },
   "outputs": [],
   "source": [
    "import torch\n",
    "import torch.nn as nn\n",
    "import torch.nn.functional as F\n",
    "\n",
    "#VAE 모델 정의\n",
    "class VAE(nn.Module):\n",
    "    def __init__(self, input_dim):\n",
    "        super(VAE, self).__init__()\n",
    "        self.fc1 = nn.Linear(input_dim, 32)\n",
    "        self.fc2 = nn.Linear(32, 16)\n",
    "        self.fc_mu = nn.Linear(16, 8)\n",
    "        self.fc_logvar = nn.Linear(16, 8)\n",
    "\n",
    "        self.fc3 = nn.Linear(8, 16)\n",
    "        self.fc4 = nn.Linear(16, 32)\n",
    "        self.fc_out = nn.Linear(32, input_dim)\n",
    "\n",
    "    def encode(self, x):\n",
    "        h1 = F.relu(self.fc1(x))\n",
    "        h2 = F.relu(self.fc2(h1))\n",
    "        mu = self.fc_mu(h2)\n",
    "        logvar = self.fc_logvar(h2)\n",
    "        return mu, logvar\n",
    "\n",
    "    def reparameterize(self, mu, logvar):\n",
    "        std = torch.exp(0.5 * logvar)\n",
    "        eps = torch.randn_like(std)\n",
    "        return mu + eps * std\n",
    "\n",
    "    def decode(self, z):\n",
    "        h3 = F.relu(self.fc3(z))\n",
    "        h4 = F.relu(self.fc4(h3))\n",
    "        return self.fc_out(h4)\n",
    "\n",
    "    def forward(self, x):\n",
    "        mu, logvar = self.encode(x)\n",
    "        z = self.reparameterize(mu, logvar)\n",
    "        x_recon = self.decode(z)\n",
    "        return x_recon, mu, logvar\n"
   ]
  },
  {
   "cell_type": "code",
   "execution_count": 0,
   "metadata": {
    "application/vnd.databricks.v1+cell": {
     "cellMetadata": {
      "byteLimit": 2048000,
      "rowLimit": 10000
     },
     "inputWidgets": {},
     "nuid": "50457fa6-5dcb-4dbd-aa0f-3150fa1e949f",
     "showTitle": false,
     "tableResultSettingsMap": {},
     "title": ""
    }
   },
   "outputs": [],
   "source": [
    "from torch.utils.data import DataLoader, TensorDataset\n",
    "\n",
    "#VAE 모델 학습\n",
    "X_tensor = torch.tensor(X, dtype=torch.float32)\n",
    "train_loader = DataLoader(TensorDataset(X_tensor), batch_size=64, shuffle=True)\n",
    "\n",
    "vae = VAE(input_dim=X.shape[1])\n",
    "optimizer = torch.optim.Adam(vae.parameters(), lr=1e-3)\n",
    "\n",
    "def vae_loss(x, x_recon, mu, logvar):\n",
    "    recon_loss = F.mse_loss(x_recon, x, reduction='mean')\n",
    "    kl_div = -0.5 * torch.mean(1 + logvar - mu.pow(2) - logvar.exp())\n",
    "    return recon_loss + kl_div\n",
    "\n",
    "vae.train()\n",
    "n_epochs = 30\n",
    "for epoch in range(n_epochs):\n",
    "    for batch in train_loader:\n",
    "        x_batch = batch[0]\n",
    "        optimizer.zero_grad()\n",
    "        x_recon, mu, logvar = vae(x_batch)\n",
    "        loss = vae_loss(x_batch, x_recon, mu, logvar)\n",
    "        loss.backward()\n",
    "        optimizer.step()\n"
   ]
  },
  {
   "cell_type": "code",
   "execution_count": 0,
   "metadata": {
    "application/vnd.databricks.v1+cell": {
     "cellMetadata": {
      "byteLimit": 2048000,
      "rowLimit": 10000
     },
     "inputWidgets": {},
     "nuid": "101bca21-0692-4140-b09e-89143a3cade5",
     "showTitle": false,
     "tableResultSettingsMap": {},
     "title": ""
    }
   },
   "outputs": [],
   "source": [
    "# 복원 오차 기반 이상치 판별\n",
    "vae.eval()\n",
    "with torch.no_grad():\n",
    "    x_recon, _, _ = vae(X_tensor)\n",
    "    recon_error = torch.mean((X_tensor - x_recon) ** 2, dim=1).numpy()\n",
    "\n",
    "# 오차 상위 5%를 이상치로 간주\n",
    "import numpy as np\n",
    "threshold = np.percentile(recon_error, 95)\n",
    "pseudo_labels_vae = (recon_error > threshold).astype(int)\n"
   ]
  },
  {
   "cell_type": "code",
   "execution_count": 0,
   "metadata": {
    "application/vnd.databricks.v1+cell": {
     "cellMetadata": {
      "byteLimit": 2048000,
      "rowLimit": 10000
     },
     "inputWidgets": {},
     "nuid": "e2d09ba9-f7d9-4914-99a7-5fa41ecc4cf0",
     "showTitle": false,
     "tableResultSettingsMap": {},
     "title": ""
    }
   },
   "outputs": [
    {
     "output_type": "stream",
     "name": "stdout",
     "output_type": "stream",
     "text": [
      "0    561013\n1     29527\nName: anomaly_vae, dtype: int64\n"
     ]
    }
   ],
   "source": [
    "# pseudo label 출력\n",
    "fds_pdf_encoded['anomaly_vae'] = pseudo_labels_vae\n",
    "print(fds_pdf_encoded['anomaly_vae'].value_counts())\n"
   ]
  },
  {
   "cell_type": "code",
   "execution_count": 0,
   "metadata": {
    "application/vnd.databricks.v1+cell": {
     "cellMetadata": {
      "byteLimit": 2048000,
      "rowLimit": 10000
     },
     "inputWidgets": {},
     "nuid": "e3a7b6c0-1937-4eaf-8dfe-e8a4d93a0b50",
     "showTitle": false,
     "tableResultSettingsMap": {},
     "title": ""
    }
   },
   "outputs": [],
   "source": [
    "# fds_pdf_encoded 데이터 저장\n",
    "fds_pdf_encoded.to_csv(\"/dbfs/mnt/my-mount/fds_pdf_encoded_data2.csv\", index=False, encoding='utf-8-sig')"
   ]
  },
  {
   "cell_type": "code",
   "execution_count": 0,
   "metadata": {
    "application/vnd.databricks.v1+cell": {
     "cellMetadata": {
      "byteLimit": 2048000,
      "rowLimit": 10000
     },
     "inputWidgets": {},
     "nuid": "35d1f82e-2f50-4211-83f6-9bd76625f807",
     "showTitle": false,
     "tableResultSettingsMap": {},
     "title": ""
    }
   },
   "outputs": [
    {
     "output_type": "stream",
     "name": "stdout",
     "output_type": "stream",
     "text": [
      "      transaction_time  TransactionDT recipient  TransactionAmt  hour  \\\n0  2025-01-14 09:56:23          86400        춘자         68500.0     9   \n1  2025-04-20 22:42:41          86401        수빈         29000.0    22   \n2  2025-04-09 19:27:13          86469        서준         59000.0    19   \n3  2025-01-30 01:26:54          86499        병철         50000.0     1   \n4  2025-01-24 22:58:30          86506        민수         50000.0    22   \n\n   voice_match                     DeviceInfo region receiver_bank  \\\n0            1                            NaN     대구          토스뱅크   \n1            0                            NaN     대구         카카오뱅크   \n2            1                            NaN     부산          신한은행   \n3            1                            NaN     부산         카카오뱅크   \n4            1  SAMSUNG SM-G892A Build/NRD90M     서울          우리은행   \n\n   receiver_account  is_new_account_for_user  avg_amount_to_bank  \\\n0     1000000266274                        0              481616   \n1     1000000573349                        1               79943   \n2     1000000451208                        0              218283   \n3     1000000473588                        0              457390   \n4     1000000040287                        0              289443   \n\n   amount_ratio_to_bank_avg  is_nighttime  recent_transaction_gap  \\\n0                  0.142229             0               14.932585   \n1                  0.362758             0               21.894439   \n2                  0.270291             0               17.249459   \n3                  0.109316             1               12.112011   \n4                  0.172746             0               75.834574   \n\n   is_new_device      ip_address  vpn app_version  rooting  \\\n0              0    58.232.2.170    0       3.1.0        0   \n1              0      25.0.3.185    0       3.4.3        0   \n2              0  168.188.65.132    1       1.2.1        1   \n3              1  158.221.28.126    1       3.8.1        1   \n4              1  171.223.101.73    1       3.6.0        1   \n\n   payment_method_P01  payment_method_P02  payment_method_P03  \\\n0                   0                   0                   0   \n1                   0                   0                   0   \n2                   1                   0                   0   \n3                   0                   0                   0   \n4                   0                   0                   0   \n\n   payment_method_P04  payment_method_P05  payment_method_P06  intent_T01  \\\n0                   1                   0                   0           0   \n1                   0                   1                   0           0   \n2                   0                   0                   0           0   \n3                   0                   1                   0           0   \n4                   1                   0                   0           0   \n\n   intent_T02  intent_T03  intent_T04  intent_T05  authentication_A01  \\\n0           0           0           0           1                   0   \n1           1           0           0           0                   0   \n2           0           0           0           1                   0   \n3           0           0           0           1                   0   \n4           1           0           0           0                   0   \n\n   authentication_A02  authentication_A03  authentication_A04  \\\n0                   0                   0                   0   \n1                   1                   0                   0   \n2                   0                   0                   0   \n3                   1                   0                   0   \n4                   1                   0                   0   \n\n   authentication_A05  authentication_A06  anomaly_iforest  \\\n0                   0                   1                0   \n1                   0                   0                0   \n2                   0                   1                0   \n3                   0                   0                0   \n4                   0                   0                0   \n\n   anomaly_autoencoder  anomaly_vae  \n0                    0            0  \n1                    0            0  \n2                    0            0  \n3                    0            0  \n4                    0            0  \n"
     ]
    }
   ],
   "source": [
    "import pandas as pd\n",
    "\n",
    "unsupervised_pdf = pd.read_csv(\"/dbfs/mnt/my-mount/fds_pdf_encoded_data2.csv\")\n",
    "print(unsupervised_pdf.head()) "
   ]
  },
  {
   "cell_type": "markdown",
   "metadata": {
    "application/vnd.databricks.v1+cell": {
     "cellMetadata": {},
     "inputWidgets": {},
     "nuid": "fe998950-136f-4ff9-9507-18bd10ba1b73",
     "showTitle": false,
     "tableResultSettingsMap": {},
     "title": ""
    }
   },
   "source": [
    "Risk Score 계산"
   ]
  },
  {
   "cell_type": "code",
   "execution_count": 0,
   "metadata": {
    "application/vnd.databricks.v1+cell": {
     "cellMetadata": {
      "byteLimit": 2048000,
      "rowLimit": 10000
     },
     "inputWidgets": {},
     "nuid": "267edda4-7714-483a-8386-aa127f5ffc98",
     "showTitle": false,
     "tableResultSettingsMap": {},
     "title": ""
    }
   },
   "outputs": [
    {
     "output_type": "stream",
     "name": "stdout",
     "output_type": "stream",
     "text": [
      "[-0.03850879 -0.04263287 -0.04176648 ... -0.03575005 -0.04267507\n  0.00702766]\n[0.19587532 0.21342492 0.10952801 ... 0.11955129 0.09259665 0.24708028]\n[0.9142493  0.98625576 0.86831886 ... 0.9484471  0.87746304 1.0753839 ]\n"
     ]
    }
   ],
   "source": [
    "# 각 모델에서 나온 이상도 점수 추출\n",
    "scores_iforest = -iso_forest.decision_function(X)  # 낮을수록 이상치 → 부호 반전\n",
    "scores_ae = mse  # 이미 계산된 재구성 오차\n",
    "scores_vae = recon_error  # 이미 계산된 재구성 오차\n",
    "\n",
    "print(scores_iforest)\n",
    "print(scores_ae)\n",
    "print(scores_vae)"
   ]
  },
  {
   "cell_type": "code",
   "execution_count": 0,
   "metadata": {
    "application/vnd.databricks.v1+cell": {
     "cellMetadata": {
      "byteLimit": 2048000,
      "rowLimit": 10000
     },
     "inputWidgets": {},
     "nuid": "92cd7fed-f000-4681-9d71-a10d1d988c0d",
     "showTitle": false,
     "tableResultSettingsMap": {},
     "title": ""
    }
   },
   "outputs": [
    {
     "output_type": "stream",
     "name": "stdout",
     "output_type": "stream",
     "text": [
      "[0.24631908 0.22312551 0.22799802 ... 0.26183406 0.2228882  0.50241314]\n[1.2720756e-04 1.4159620e-04 5.6412846e-05 ... 6.4630774e-05 4.2531112e-05\n 1.6918966e-04]\n[2.4302150e-05 3.8692204e-05 1.5123223e-05 ... 3.1136369e-05 1.6950638e-05\n 5.6503923e-05]\n"
     ]
    }
   ],
   "source": [
    "# 점수 정규화(0~1) → 서로 다른 모델 간 비교를 위해 각 스코어를 동일한 스케일로 정규화해야 함.\n",
    "from sklearn.preprocessing import MinMaxScaler\n",
    "\n",
    "min_max_scaler = MinMaxScaler()\n",
    "scores_iforest_scaled = min_max_scaler.fit_transform(scores_iforest.reshape(-1, 1)).flatten()\n",
    "scores_ae_scaled = min_max_scaler.fit_transform(scores_ae.reshape(-1, 1)).flatten()\n",
    "scores_vae_scaled = min_max_scaler.fit_transform(scores_vae.reshape(-1, 1)).flatten()\n",
    "print(scores_iforest_scaled)\n",
    "print(scores_ae_scaled)\n",
    "print(scores_vae_scaled)"
   ]
  },
  {
   "cell_type": "code",
   "execution_count": 0,
   "metadata": {
    "application/vnd.databricks.v1+cell": {
     "cellMetadata": {
      "byteLimit": 2048000,
      "rowLimit": 10000
     },
     "inputWidgets": {},
     "nuid": "f430f855-ef2b-4bfa-a945-1f9cf91cc840",
     "showTitle": false,
     "tableResultSettingsMap": {},
     "title": ""
    }
   },
   "outputs": [
    {
     "output_type": "stream",
     "name": "stdout",
     "output_type": "stream",
     "text": [
      "      transaction_time  TransactionDT recipient  TransactionAmt  hour  \\\n0  2025-01-14 09:56:23          86400        춘자         68500.0     9   \n1  2025-04-20 22:42:41          86401        수빈         29000.0    22   \n2  2025-04-09 19:27:13          86469        서준         59000.0    19   \n3  2025-01-30 01:26:54          86499        병철         50000.0     1   \n4  2025-01-24 22:58:30          86506        민수         50000.0    22   \n\n   voice_match                     DeviceInfo region receiver_bank  \\\n0            1                            NaN     대구          토스뱅크   \n1            0                            NaN     대구         카카오뱅크   \n2            1                            NaN     부산          신한은행   \n3            1                            NaN     부산         카카오뱅크   \n4            1  SAMSUNG SM-G892A Build/NRD90M     서울          우리은행   \n\n   receiver_account  is_new_account_for_user  avg_amount_to_bank  \\\n0     1000000266274                        0              481616   \n1     1000000573349                        1               79943   \n2     1000000451208                        0              218283   \n3     1000000473588                        0              457390   \n4     1000000040287                        0              289443   \n\n   amount_ratio_to_bank_avg  is_nighttime  recent_transaction_gap  \\\n0                  0.142229             0               14.932585   \n1                  0.362758             0               21.894439   \n2                  0.270291             0               17.249459   \n3                  0.109316             1               12.112011   \n4                  0.172746             0               75.834574   \n\n   is_new_device      ip_address  vpn app_version  rooting  \\\n0              0    58.232.2.170    0       3.1.0        0   \n1              0      25.0.3.185    0       3.4.3        0   \n2              0  168.188.65.132    1       1.2.1        1   \n3              1  158.221.28.126    1       3.8.1        1   \n4              1  171.223.101.73    1       3.6.0        1   \n\n   payment_method_P01  payment_method_P02  payment_method_P03  \\\n0                   0                   0                   0   \n1                   0                   0                   0   \n2                   1                   0                   0   \n3                   0                   0                   0   \n4                   0                   0                   0   \n\n   payment_method_P04  payment_method_P05  payment_method_P06  intent_T01  \\\n0                   1                   0                   0           0   \n1                   0                   1                   0           0   \n2                   0                   0                   0           0   \n3                   0                   1                   0           0   \n4                   1                   0                   0           0   \n\n   intent_T02  intent_T03  intent_T04  intent_T05  authentication_A01  \\\n0           0           0           0           1                   0   \n1           1           0           0           0                   0   \n2           0           0           0           1                   0   \n3           0           0           0           1                   0   \n4           1           0           0           0                   0   \n\n   authentication_A02  authentication_A03  authentication_A04  \\\n0                   0                   0                   0   \n1                   1                   0                   0   \n2                   0                   0                   0   \n3                   1                   0                   0   \n4                   1                   0                   0   \n\n   authentication_A05  authentication_A06  anomaly_iforest  \\\n0                   0                   1                0   \n1                   0                   0                0   \n2                   0                   1                0   \n3                   0                   0                0   \n4                   0                   0                0   \n\n   anomaly_autoencoder  anomaly_vae  avg_risk_score  \n0                    0            0        0.082157  \n1                    0            0        0.074435  \n2                    0            0        0.076023  \n3                    0            0        0.114789  \n4                    0            0        0.095207  \n"
     ]
    }
   ],
   "source": [
    "# 통합 Risk Score 계산\n",
    "# 방법1: 단순 평균\n",
    "unsupervised_pdf['avg_risk_score']=(\n",
    "    scores_iforest_scaled + scores_ae_scaled + scores_vae_scaled\n",
    ")/3\n",
    "print(unsupervised_pdf.head())"
   ]
  },
  {
   "cell_type": "code",
   "execution_count": 0,
   "metadata": {
    "application/vnd.databricks.v1+cell": {
     "cellMetadata": {
      "byteLimit": 2048000,
      "rowLimit": 10000
     },
     "inputWidgets": {},
     "nuid": "e31b1f75-6a09-4bac-b30e-d5aea2094257",
     "showTitle": false,
     "tableResultSettingsMap": {},
     "title": ""
    }
   },
   "outputs": [
    {
     "output_type": "stream",
     "name": "stdout",
     "output_type": "stream",
     "text": [
      "      transaction_time  TransactionDT recipient  TransactionAmt  hour  \\\n0  2025-01-14 09:56:23          86400        춘자         68500.0     9   \n1  2025-04-20 22:42:41          86401        수빈         29000.0    22   \n2  2025-04-09 19:27:13          86469        서준         59000.0    19   \n3  2025-01-30 01:26:54          86499        병철         50000.0     1   \n4  2025-01-24 22:58:30          86506        민수         50000.0    22   \n\n   voice_match                     DeviceInfo region receiver_bank  \\\n0            1                            NaN     대구          토스뱅크   \n1            0                            NaN     대구         카카오뱅크   \n2            1                            NaN     부산          신한은행   \n3            1                            NaN     부산         카카오뱅크   \n4            1  SAMSUNG SM-G892A Build/NRD90M     서울          우리은행   \n\n   receiver_account  is_new_account_for_user  avg_amount_to_bank  \\\n0     1000000266274                        0              481616   \n1     1000000573349                        1               79943   \n2     1000000451208                        0              218283   \n3     1000000473588                        0              457390   \n4     1000000040287                        0              289443   \n\n   amount_ratio_to_bank_avg  is_nighttime  recent_transaction_gap  \\\n0                  0.142229             0               14.932585   \n1                  0.362758             0               21.894439   \n2                  0.270291             0               17.249459   \n3                  0.109316             1               12.112011   \n4                  0.172746             0               75.834574   \n\n   is_new_device      ip_address  vpn app_version  rooting  \\\n0              0    58.232.2.170    0       3.1.0        0   \n1              0      25.0.3.185    0       3.4.3        0   \n2              0  168.188.65.132    1       1.2.1        1   \n3              1  158.221.28.126    1       3.8.1        1   \n4              1  171.223.101.73    1       3.6.0        1   \n\n   payment_method_P01  payment_method_P02  payment_method_P03  \\\n0                   0                   0                   0   \n1                   0                   0                   0   \n2                   1                   0                   0   \n3                   0                   0                   0   \n4                   0                   0                   0   \n\n   payment_method_P04  payment_method_P05  payment_method_P06  intent_T01  \\\n0                   1                   0                   0           0   \n1                   0                   1                   0           0   \n2                   0                   0                   0           0   \n3                   0                   1                   0           0   \n4                   1                   0                   0           0   \n\n   intent_T02  intent_T03  intent_T04  intent_T05  authentication_A01  \\\n0           0           0           0           1                   0   \n1           1           0           0           0                   0   \n2           0           0           0           1                   0   \n3           0           0           0           1                   0   \n4           1           0           0           0                   0   \n\n   authentication_A02  authentication_A03  authentication_A04  \\\n0                   0                   0                   0   \n1                   1                   0                   0   \n2                   0                   0                   0   \n3                   1                   0                   0   \n4                   1                   0                   0   \n\n   authentication_A05  authentication_A06  anomaly_iforest  \\\n0                   0                   1                0   \n1                   0                   0                0   \n2                   0                   1                0   \n3                   0                   0                0   \n4                   0                   0                0   \n\n   anomaly_autoencoder  anomaly_vae  avg_risk_score  weighted_risk_score  \n0                    0            0        0.082157             0.073954  \n1                    0            0        0.074435             0.067006  \n2                    0            0        0.076023             0.068427  \n3                    0            0        0.114789             0.103320  \n4                    0            0        0.095207             0.085691  \n"
     ]
    }
   ],
   "source": [
    "# 방법 2: 가중 평균 (모델별 신뢰도 반영)\n",
    "unsupervised_pdf['weighted_risk_score'] = (\n",
    "    0.3 * scores_iforest_scaled +\n",
    "    0.4 * scores_ae_scaled +\n",
    "    0.3 * scores_vae_scaled\n",
    ")\n",
    "\n",
    "print(unsupervised_pdf.head())"
   ]
  },
  {
   "cell_type": "code",
   "execution_count": 0,
   "metadata": {
    "application/vnd.databricks.v1+cell": {
     "cellMetadata": {
      "byteLimit": 2048000,
      "rowLimit": 10000
     },
     "inputWidgets": {},
     "nuid": "3b6d40a7-b212-4f5b-a33b-75cfa73f6cc3",
     "showTitle": false,
     "tableResultSettingsMap": {},
     "title": ""
    }
   },
   "outputs": [
    {
     "output_type": "display_data",
     "data": {
      "image/png": "[encoded data removed]",
      "text/plain": [
       "<Figure size 1000x600 with 1 Axes>"
      ]
     },
     "metadata": {},
     "output_type": "display_data"
    }
   ],
   "source": [
    "# Risk Score 분포 시각화\n",
    "import matplotlib.pyplot as plt\n",
    "import seaborn as sns\n",
    "\n",
    "plt.figure(figsize=(10, 6))\n",
    "\n",
    "# 평균 risk score 분포\n",
    "sns.histplot(unsupervised_pdf['avg_risk_score'], bins=50, kde=True, color='skyblue', label='Average Risk Score')\n",
    "\n",
    "# 가중평균 risk score 분포\n",
    "sns.histplot(unsupervised_pdf['weighted_risk_score'], bins=50, kde=True, color='orange', label='Weighted Risk Score')\n",
    "\n",
    "plt.title('Distribution of Risk Scores (Average vs Weighted)')\n",
    "plt.xlabel('Risk Score')\n",
    "plt.ylabel('Count')\n",
    "plt.legend()\n",
    "plt.grid(True)\n",
    "plt.tight_layout()\n",
    "plt.show()"
   ]
  },
  {
   "cell_type": "code",
   "execution_count": 0,
   "metadata": {
    "application/vnd.databricks.v1+cell": {
     "cellMetadata": {
      "byteLimit": 2048000,
      "rowLimit": 10000
     },
     "inputWidgets": {},
     "nuid": "b5eb0e94-8c57-4c16-83d1-cdc16b0d1bd3",
     "showTitle": false,
     "tableResultSettingsMap": {},
     "title": ""
    }
   },
   "outputs": [
    {
     "output_type": "stream",
     "name": "stdout",
     "output_type": "stream",
     "text": [
      "🔍 평균 기반 이상 거래 수:\n 0    561013\n1     29527\nName: pseudo_label_avg, dtype: int64\n\n🔍 가중 평균 기반 이상 거래 수:\n 0    561013\n1     29527\nName: pseudo_label_weighted, dtype: int64\n"
     ]
    }
   ],
   "source": [
    "# pseudo label 생성\n",
    "threshold_avg = unsupervised_pdf['avg_risk_score'].quantile(0.95)\n",
    "unsupervised_pdf['pseudo_label_avg'] = (unsupervised_pdf['avg_risk_score'] >= threshold_avg).astype(int)\n",
    "\n",
    "threshold_weighted = unsupervised_pdf['weighted_risk_score'].quantile(0.95)\n",
    "unsupervised_pdf['pseudo_label_weighted'] =  (unsupervised_pdf['weighted_risk_score'] >= threshold_weighted).astype(int)\n",
    "\n",
    "print(\"🔍 평균 기반 이상 거래 수:\\n\", unsupervised_pdf['pseudo_label_avg'].value_counts())\n",
    "print(\"\\n🔍 가중 평균 기반 이상 거래 수:\\n\", unsupervised_pdf['pseudo_label_weighted'].value_counts())"
   ]
  },
  {
   "cell_type": "code",
   "execution_count": 0,
   "metadata": {
    "application/vnd.databricks.v1+cell": {
     "cellMetadata": {
      "byteLimit": 2048000,
      "rowLimit": 10000
     },
     "inputWidgets": {},
     "nuid": "a20ba665-b011-44c0-8fd3-6fa74d3207c9",
     "showTitle": false,
     "tableResultSettingsMap": {},
     "title": ""
    }
   },
   "outputs": [],
   "source": [
    "unsupervised_pdf.to_csv(\"/dbfs/mnt/my-mount/unsupervised_pdf.csv\", index=False, encoding='utf-8-sig')"
   ]
  }
 ],
 "metadata": {
  "application/vnd.databricks.v1+notebook": {
   "computePreferences": null,
   "dashboards": [],
   "environmentMetadata": {
    "base_environment": "",
    "environment_version": "2"
   },
   "inputWidgetPreferences": null,
   "language": "python",
   "notebookMetadata": {
    "pythonIndentUnit": 4
   },
   "notebookName": "seoryeong_unsupervised learning",
   "widgets": {}
  },
  "language_info": {
   "name": "python"
  }
 },
 "nbformat": 4,
 "nbformat_minor": 0
}